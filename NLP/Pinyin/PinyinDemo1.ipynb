{
 "cells": [
  {
   "cell_type": "markdown",
   "metadata": {
    "collapsed": true
   },
   "source": [
    "中文转拼音Demo1\n",
    "\n",
    "> 参考链接\n",
    ">\n",
    "> <https://pypi.org/project/pinyin/>\n",
    ">\n",
    ">\n",
    "\n",
    "pinyin安装：\n",
    "\n",
    "\tpip install pinyin\n"
   ]
  },
  {
   "cell_type": "code",
   "execution_count": 1,
   "metadata": {},
   "outputs": [],
   "source": [
    "import pinyin"
   ]
  },
  {
   "cell_type": "code",
   "execution_count": 17,
   "metadata": {},
   "outputs": [],
   "source": [
    "import sys\n",
    "stdi, stdo, stde = sys.stdin, sys.stdout, sys.stderr\n",
    "reload(sys)\n",
    "sys.setdefaultencoding('utf-8')\n",
    "sys.stdin, sys.stdout, sys.stderr = stdi, stdo, stde"
   ]
  },
  {
   "cell_type": "code",
   "execution_count": 2,
   "metadata": {},
   "outputs": [
    {
     "name": "stdout",
     "output_type": "stream",
     "text": [
      "nǐ hǎo\n"
     ]
    }
   ],
   "source": [
    "print pinyin.get('你 好')"
   ]
  },
  {
   "cell_type": "code",
   "execution_count": 3,
   "metadata": {},
   "outputs": [
    {
     "name": "stdout",
     "output_type": "stream",
     "text": [
      "ni hao\n"
     ]
    }
   ],
   "source": [
    "print pinyin.get('你好', format=\"strip\", delimiter=\" \")"
   ]
  },
  {
   "cell_type": "code",
   "execution_count": 4,
   "metadata": {},
   "outputs": [
    {
     "name": "stdout",
     "output_type": "stream",
     "text": [
      "ni3hao3\n"
     ]
    }
   ],
   "source": [
    "print pinyin.get('你好', format=\"numerical\")"
   ]
  },
  {
   "cell_type": "code",
   "execution_count": 6,
   "metadata": {},
   "outputs": [
    {
     "name": "stdout",
     "output_type": "stream",
     "text": [
      "n h\n"
     ]
    }
   ],
   "source": [
    "print pinyin.get_initial('你好')"
   ]
  },
  {
   "cell_type": "heading",
   "metadata": {},
   "level": 1,
   "source": [
    "Prototype Chinese->English"
   ]
  },
  {
   "cell_type": "code",
   "execution_count": 6,
   "metadata": {},
   "outputs": [],
   "source": [
    "import pinyin.cedict"
   ]
  },
  {
   "cell_type": "code",
   "execution_count": 21,
   "metadata": {},
   "outputs": [],
   "source": [
    "pinyin.cedict.translate_word(u'你') # .decode(\"UTF-8\").encode(\"utf-8\")"
   ]
  },
  {
   "cell_type": "code",
   "execution_count": 22,
   "metadata": {},
   "outputs": [],
   "source": [
    "pinyin.cedict.translate_word(u'你好')"
   ]
  },
  {
   "cell_type": "code",
   "execution_count": 23,
   "metadata": {},
   "outputs": [
    {
     "data": {
      "text/plain": [
       "[]"
      ]
     },
     "execution_count": 23,
     "metadata": {},
     "output_type": "execute_result"
    }
   ],
   "source": [
    "list(pinyin.cedict.all_phrase_translations(u'你好'))"
   ]
  },
  {
   "cell_type": "code",
   "execution_count": 26,
   "metadata": {},
   "outputs": [
    {
     "name": "stdout",
     "output_type": "stream",
     "text": [
      "('====>cal==>', '{\"content\": \"\\\\u4efb\\\\u8001\\\\u4efb\\\\u6028\", \"username\": \"tester\", \"biz_type\": \"show\", \"mode\": \"advanced\"}')\n{u'extension': {u'domain_words': None}, u'MarkWords': None, u'MustShowMessage': u'', u'Message': u'', u'ClientAction': u'', u'Cases': [{u'ReviewWords': False, u'Sentence': u'', u'WordsLen': 2, u'MarkType': 9, u'Pos': 1, u'InnerId': u'DHLMSE', u'Error': u'\\u8001\\u4efb', u'DocId': u'', u'Tips': u'<\\u7591\\u4f3c\\u9519\\u8bef>', u'ErrLevel': 3, u'ErrInfo': u''}], u'Successed': True}\n{\n    \"Cases\": [\n        {\n            \"DocId\": \"\", \n            \"ErrInfo\": \"\", \n            \"ErrLevel\": 3, \n            \"Error\": \"老任\", \n            \"InnerId\": \"DHLMSE\", \n            \"MarkType\": 9, \n            \"Pos\": 1, \n            \"ReviewWords\": false, \n            \"Sentence\": \"\", \n            \"Tips\": \"<疑似错误>\", \n            \"WordsLen\": 2\n        }\n    ], \n    \"ClientAction\": \"\", \n    \"MarkWords\": null, \n    \"Message\": \"\", \n    \"MustShowMessage\": \"\", \n    \"Successed\": true, \n    \"extension\": {\n        \"domain_words\": null\n    }\n}\n"
     ]
    }
   ],
   "source": [
    "import requests,json\n",
    "\n",
    "'''\n",
    "pip install request\n",
    "url = 'http://api.CuoBieZi.net/spellcheck/json_check/json_phrase'\n",
    "字段一：\"content\", 填写需要检查的文字内容\n",
    "字段二：\"mode\", 固定值，填写：\"advanced\"  预留参数，固定值\n",
    "字段三：\"biz_type\", 固定值，填写：\"show\"  预留参数，固定值\n",
    "返回 json 格式的结果：\n",
    "{\"Cases\":[{\"Error\":\"中国人民共和国\",\"Tips\":\"中华人民共和国\",\"Sentence\":\"中国人民共和国下半年上世纪将在微信账户钱包帐户的“九宫格”中开设快速的笑着保险入口，\",\"ErrInfo\":\"\",\"Pos\":4}]}\n",
    "json 结果说明：\n",
    "Error 是错误词\n",
    "Tips 是正确词语\n",
    "Sentence 是错误词与所在的句子\n",
    "Pos 是错误词在文章中的位置\n",
    "其他是测试字段，未来会取消\n",
    "'''\n",
    "# msg_str = \"漏字： 中华人民共和这根邮寄达老旧烟囱已走到生命进头，她的离去让哦们很悲伤， 中华人民共和台万第二大金融控股公司富邦金控已与腾讯谈成合作，上述保险产品将由富邦金控旗下内地子公司富邦财险开发或引进。 \"\n",
    "msg_str = \"任老任怨\"\n",
    "\n",
    "payload = {\n",
    "    \"content\" : msg_str,\n",
    "    \"mode\": \"advanced\",\n",
    "    \"username\" : \"tester\",\n",
    "    \"biz_type\": \"show\"\n",
    "}\n",
    "\n",
    "url = 'http://api.CuoBieZi.net/spellcheck/json_check/json_phrase'\n",
    "\n",
    "headers = {'content-type': 'application/json'}\n",
    "\n",
    "print(\"====>cal==>\",json.dumps(payload))\n",
    "response = requests.post(url, data=json.dumps(payload), headers=headers)\n",
    "returned_json_str=response.json()\n",
    "print(response.json())\n",
    "print( json.dumps(returned_json_str, indent=4, sort_keys=True, ensure_ascii=False) )"
   ]
  },
  {
   "cell_type": "code",
   "execution_count": null,
   "metadata": {},
   "outputs": [],
   "source": [
    ""
   ]
  }
 ],
 "metadata": {
  "kernelspec": {
   "display_name": "Python 2",
   "language": "python",
   "name": "python2"
  },
  "language_info": {
   "codemirror_mode": {
    "name": "ipython",
    "version": 2.0
   },
   "file_extension": ".py",
   "mimetype": "text/x-python",
   "name": "python",
   "nbconvert_exporter": "python",
   "pygments_lexer": "ipython2",
   "version": "2.7.6"
  }
 },
 "nbformat": 4,
 "nbformat_minor": 0
}