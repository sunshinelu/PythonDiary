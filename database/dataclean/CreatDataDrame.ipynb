{
 "cells": [
  {
   "cell_type": "markdown",
   "metadata": {
    "collapsed": true
   },
   "source": [
    "#  创建DataFrame\n",
    "\n",
    "> 参考链接：\n",
    "> pandas 入门：DataFrame的创建，读写，插入和删除\n",
    "> <https://blog.csdn.net/xtfge0915/article/details/52938740>"
   ]
  },
  {
   "cell_type": "code",
   "execution_count": 1,
   "metadata": {},
   "outputs": [],
   "source": [
    "import numpy as np\n",
    "import pandas as pd"
   ]
  },
  {
   "cell_type": "markdown",
   "metadata": {},
   "source": [
    "## 1. Creat by dictionary"
   ]
  },
  {
   "cell_type": "code",
   "execution_count": 2,
   "metadata": {},
   "outputs": [
    {
     "data": {
      "text/html": [
       "<div>\n",
       "<style>\n",
       "    .dataframe thead tr:only-child th {\n",
       "        text-align: right;\n",
       "    }\n",
       "\n",
       "    .dataframe thead th {\n",
       "        text-align: left;\n",
       "    }\n",
       "\n",
       "    .dataframe tbody tr th {\n",
       "        vertical-align: top;\n",
       "    }\n",
       "</style>\n",
       "<table border=\"1\" class=\"dataframe\">\n",
       "  <thead>\n",
       "    <tr style=\"text-align: right;\">\n",
       "      <th></th>\n",
       "      <th>col1</th>\n",
       "      <th>col2</th>\n",
       "    </tr>\n",
       "  </thead>\n",
       "  <tbody>\n",
       "    <tr>\n",
       "      <th>0</th>\n",
       "      <td>&lt;a class='k' href='https://m.weibo.cn/k/%E7%A6...</td>\n",
       "      <td>1</td>\n",
       "    </tr>\n",
       "    <tr>\n",
       "      <th>1</th>\n",
       "      <td>永泰梧桐镇果农用传统手工 制出原汁原味柿饼</td>\n",
       "      <td>2</td>\n",
       "    </tr>\n",
       "  </tbody>\n",
       "</table>\n",
       "</div>"
      ],
      "text/plain": [
       "<div>\n",
       "<style>\n",
       "    .dataframe thead tr:only-child th {\n",
       "        text-align: right;\n",
       "    }\n",
       "\n",
       "    .dataframe thead th {\n",
       "        text-align: left;\n",
       "    }\n",
       "\n",
       "    .dataframe tbody tr th {\n",
       "        vertical-align: top;\n",
       "    }\n",
       "</style>\n",
       "<table border=\"1\" class=\"dataframe\">\n",
       "  <thead>\n",
       "    <tr style=\"text-align: right;\">\n",
       "      <th></th>\n",
       "      <th>col1</th>\n",
       "      <th>col2</th>\n",
       "    </tr>\n",
       "  </thead>\n",
       "  <tbody>\n",
       "    <tr>\n",
       "      <th>0</th>\n",
       "      <td>&lt;a class='k' href='https://m.weibo.cn/k/%E7%A6...</td>\n",
       "      <td>1</td>\n",
       "    </tr>\n",
       "    <tr>\n",
       "      <th>1</th>\n",
       "      <td>永泰梧桐镇果农用传统手工 制出原汁原味柿饼</td>\n",
       "      <td>2</td>\n",
       "    </tr>\n",
       "  </tbody>\n",
       "</table>\n",
       "</div>"
      ]
     },
     "execution_count": 2,
     "metadata": {},
     "output_type": "execute_result"
    }
   ],
   "source": [
    "s1 = \"\"\"<a class='k' href='https://m.weibo.cn/k/%E7%A6%8F%E5%B7%9E%E8%BA%AB%E8%BE%B9%E4%BA%8B?from=feed'>#福州身边事#</a>【永泰梧桐镇果农用传统手工 制出原汁原味柿饼】<a href='https://m.weibo.cn/n/海峡都市报'>@海峡都市报</a>：秋季的福州乡村除了层林尽染，绵延无尽的斑斓美景，还有乡亲们收秋晒秋的忙碌身影。在永泰梧桐镇，山里柿子红彤彤挂满枝头，村民们趁着柿子还没软就采摘下来，开始一年一度传统手工劳作：去皮、晾晒、出霜，做成美味的柿饼。vi ​​​...<a href=\"/status/4040267663381680\">全文</a>\"\"\".decode(\"utf-8\")\n",
    "s2 = \"\"\"永泰梧桐镇果农用传统手工 制出原汁原味柿饼\"\"\".decode(\"utf-8\")\n",
    "df1 = pd.DataFrame({\"col1\":[s1, s2], \"col2\":[1, 2]})\n",
    "df1"
   ]
  },
  {
   "cell_type": "code",
   "execution_count": 8,
   "metadata": {},
   "outputs": [
    {
     "data": {
      "text/html": [
       "<div>\n",
       "<style>\n",
       "    .dataframe thead tr:only-child th {\n",
       "        text-align: right;\n",
       "    }\n",
       "\n",
       "    .dataframe thead th {\n",
       "        text-align: left;\n",
       "    }\n",
       "\n",
       "    .dataframe tbody tr th {\n",
       "        vertical-align: top;\n",
       "    }\n",
       "</style>\n",
       "<table border=\"1\" class=\"dataframe\">\n",
       "  <thead>\n",
       "    <tr style=\"text-align: right;\">\n",
       "      <th></th>\n",
       "      <th>col1</th>\n",
       "      <th>col2</th>\n",
       "      <th>col3</th>\n",
       "    </tr>\n",
       "  </thead>\n",
       "  <tbody>\n",
       "    <tr>\n",
       "      <th>0</th>\n",
       "      <td>&lt;a class='k' href='https://m.weibo.cn/k/%E7%A6...</td>\n",
       "      <td>1</td>\n",
       "      <td>dddd</td>\n",
       "    </tr>\n",
       "    <tr>\n",
       "      <th>1</th>\n",
       "      <td>永泰梧桐镇果农用传统手工 制出原汁原味柿饼</td>\n",
       "      <td>2</td>\n",
       "      <td>dddd</td>\n",
       "    </tr>\n",
       "  </tbody>\n",
       "</table>\n",
       "</div>"
      ],
      "text/plain": [
       "<div>\n",
       "<style>\n",
       "    .dataframe thead tr:only-child th {\n",
       "        text-align: right;\n",
       "    }\n",
       "\n",
       "    .dataframe thead th {\n",
       "        text-align: left;\n",
       "    }\n",
       "\n",
       "    .dataframe tbody tr th {\n",
       "        vertical-align: top;\n",
       "    }\n",
       "</style>\n",
       "<table border=\"1\" class=\"dataframe\">\n",
       "  <thead>\n",
       "    <tr style=\"text-align: right;\">\n",
       "      <th></th>\n",
       "      <th>col1</th>\n",
       "      <th>col2</th>\n",
       "      <th>col3</th>\n",
       "    </tr>\n",
       "  </thead>\n",
       "  <tbody>\n",
       "    <tr>\n",
       "      <th>0</th>\n",
       "      <td>&lt;a class='k' href='https://m.weibo.cn/k/%E7%A6...</td>\n",
       "      <td>1</td>\n",
       "      <td>dddd</td>\n",
       "    </tr>\n",
       "    <tr>\n",
       "      <th>1</th>\n",
       "      <td>永泰梧桐镇果农用传统手工 制出原汁原味柿饼</td>\n",
       "      <td>2</td>\n",
       "      <td>dddd</td>\n",
       "    </tr>\n",
       "  </tbody>\n",
       "</table>\n",
       "</div>"
      ]
     },
     "execution_count": 8,
     "metadata": {},
     "output_type": "execute_result"
    }
   ],
   "source": [
    "df1[\"col3\"] = \"dddd\"\n",
    "df1"
   ]
  },
  {
   "cell_type": "code",
   "execution_count": 15,
   "metadata": {},
   "outputs": [
    {
     "data": {
      "text/html": [
       "<div>\n",
       "<style>\n",
       "    .dataframe thead tr:only-child th {\n",
       "        text-align: right;\n",
       "    }\n",
       "\n",
       "    .dataframe thead th {\n",
       "        text-align: left;\n",
       "    }\n",
       "\n",
       "    .dataframe tbody tr th {\n",
       "        vertical-align: top;\n",
       "    }\n",
       "</style>\n",
       "<table border=\"1\" class=\"dataframe\">\n",
       "  <thead>\n",
       "    <tr style=\"text-align: right;\">\n",
       "      <th></th>\n",
       "      <th>col1</th>\n",
       "      <th>col2</th>\n",
       "      <th>col3</th>\n",
       "    </tr>\n",
       "  </thead>\n",
       "  <tbody>\n",
       "    <tr>\n",
       "      <th>0</th>\n",
       "      <td>&lt;a class='k' href='https://m.weibo.cn/k/%E7%A6...</td>\n",
       "      <td>1</td>\n",
       "      <td>123</td>\n",
       "    </tr>\n",
       "    <tr>\n",
       "      <th>1</th>\n",
       "      <td>永泰梧桐镇果农用传统手工 制出原汁原味柿饼</td>\n",
       "      <td>2</td>\n",
       "      <td>456</td>\n",
       "    </tr>\n",
       "  </tbody>\n",
       "</table>\n",
       "</div>"
      ],
      "text/plain": [
       "<div>\n",
       "<style>\n",
       "    .dataframe thead tr:only-child th {\n",
       "        text-align: right;\n",
       "    }\n",
       "\n",
       "    .dataframe thead th {\n",
       "        text-align: left;\n",
       "    }\n",
       "\n",
       "    .dataframe tbody tr th {\n",
       "        vertical-align: top;\n",
       "    }\n",
       "</style>\n",
       "<table border=\"1\" class=\"dataframe\">\n",
       "  <thead>\n",
       "    <tr style=\"text-align: right;\">\n",
       "      <th></th>\n",
       "      <th>col1</th>\n",
       "      <th>col2</th>\n",
       "      <th>col3</th>\n",
       "    </tr>\n",
       "  </thead>\n",
       "  <tbody>\n",
       "    <tr>\n",
       "      <th>0</th>\n",
       "      <td>&lt;a class='k' href='https://m.weibo.cn/k/%E7%A6...</td>\n",
       "      <td>1</td>\n",
       "      <td>123</td>\n",
       "    </tr>\n",
       "    <tr>\n",
       "      <th>1</th>\n",
       "      <td>永泰梧桐镇果农用传统手工 制出原汁原味柿饼</td>\n",
       "      <td>2</td>\n",
       "      <td>456</td>\n",
       "    </tr>\n",
       "  </tbody>\n",
       "</table>\n",
       "</div>"
      ]
     },
     "execution_count": 15,
     "metadata": {},
     "output_type": "execute_result"
    }
   ],
   "source": [
    "df1[\"col3\"] = [\"123\",\"456\"]\n",
    "df1"
   ]
  },
  {
   "cell_type": "code",
   "execution_count": 12,
   "metadata": {},
   "outputs": [
    {
     "name": "stdout",
     "output_type": "stream",
     "text": [
      "#福州身边事#【永泰梧桐镇果农用传统手工 制出原汁原味柿饼】@海峡都市报：秋季的福州乡村除了层林尽染，绵延无尽的斑斓美景，还有乡亲们收秋晒秋的忙碌身影。在永泰梧桐镇，山里柿子红彤彤挂满枝头，村民们趁着柿子还没软就采摘下来，开始一年一度传统手工劳作：去皮、晾晒、出霜，做成美味的柿饼。vi ​​​...全文\n"
     ]
    }
   ],
   "source": [
    "from lxml import etree\n",
    "def xpathFunc(arg1):\n",
    "    selector=etree.HTML(arg1.decode('utf-8'))\n",
    "    html_data = selector.xpath('//text()')\n",
    "    result = \"\"\n",
    "    for i in html_data:\n",
    "        result = result + i\n",
    "    return result\n",
    "\n",
    "print xpathFunc(s1.encode(\"utf-8\"))"
   ]
  },
  {
   "cell_type": "code",
   "execution_count": 21,
   "metadata": {},
   "outputs": [
    {
     "name": "stdout",
     "output_type": "stream",
     "text": [
      "[u'#\\u798f\\u5dde\\u8eab\\u8fb9\\u4e8b#\\u3010\\u6c38\\u6cf0\\u68a7\\u6850\\u9547\\u679c\\u519c\\u7528\\u4f20\\u7edf\\u624b\\u5de5 \\u5236\\u51fa\\u539f\\u6c41\\u539f\\u5473\\u67ff\\u997c\\u3011@\\u6d77\\u5ce1\\u90fd\\u5e02\\u62a5\\uff1a\\u79cb\\u5b63\\u7684\\u798f\\u5dde\\u4e61\\u6751\\u9664\\u4e86\\u5c42\\u6797\\u5c3d\\u67d3\\uff0c\\u7ef5\\u5ef6\\u65e0\\u5c3d\\u7684\\u6591\\u6593\\u7f8e\\u666f\\uff0c\\u8fd8\\u6709\\u4e61\\u4eb2\\u4eec\\u6536\\u79cb\\u6652\\u79cb\\u7684\\u5fd9\\u788c\\u8eab\\u5f71\\u3002\\u5728\\u6c38\\u6cf0\\u68a7\\u6850\\u9547\\uff0c\\u5c71\\u91cc\\u67ff\\u5b50\\u7ea2\\u5f64\\u5f64\\u6302\\u6ee1\\u679d\\u5934\\uff0c\\u6751\\u6c11\\u4eec\\u8d81\\u7740\\u67ff\\u5b50\\u8fd8\\u6ca1\\u8f6f\\u5c31\\u91c7\\u6458\\u4e0b\\u6765\\uff0c\\u5f00\\u59cb\\u4e00\\u5e74\\u4e00\\u5ea6\\u4f20\\u7edf\\u624b\\u5de5\\u52b3\\u4f5c\\uff1a\\u53bb\\u76ae\\u3001\\u667e\\u6652\\u3001\\u51fa\\u971c\\uff0c\\u505a\\u6210\\u7f8e\\u5473\\u7684\\u67ff\\u997c\\u3002vi \\u200b\\u200b\\u200b...\\u5168\\u6587', u'\\u6c38\\u6cf0\\u68a7\\u6850\\u9547\\u679c\\u519c\\u7528\\u4f20\\u7edf\\u624b\\u5de5 \\u5236\\u51fa\\u539f\\u6c41\\u539f\\u5473\\u67ff\\u997c']\n#福州身边事#【永泰梧桐镇果农用传统手工 制出原汁原味柿饼】@海峡都市报：秋季的福州乡村除了层林尽染，绵延无尽的斑斓美景，还有乡亲们收秋晒秋的忙碌身影。在永泰梧桐镇，山里柿子红彤彤挂满枝头，村民们趁着柿子还没软就采摘下来，开始一年一度传统手工劳作：去皮、晾晒、出霜，做成美味的柿饼。vi ​​​...全文\n永泰梧桐镇果农用传统手工 制出原汁原味柿饼\n"
     ]
    },
    {
     "data": {
      "text/html": [
       "<div>\n",
       "<style>\n",
       "    .dataframe thead tr:only-child th {\n",
       "        text-align: right;\n",
       "    }\n",
       "\n",
       "    .dataframe thead th {\n",
       "        text-align: left;\n",
       "    }\n",
       "\n",
       "    .dataframe tbody tr th {\n",
       "        vertical-align: top;\n",
       "    }\n",
       "</style>\n",
       "<table border=\"1\" class=\"dataframe\">\n",
       "  <thead>\n",
       "    <tr style=\"text-align: right;\">\n",
       "      <th></th>\n",
       "      <th>col1</th>\n",
       "      <th>col2</th>\n",
       "      <th>col3</th>\n",
       "      <th>col4</th>\n",
       "    </tr>\n",
       "  </thead>\n",
       "  <tbody>\n",
       "    <tr>\n",
       "      <th>0</th>\n",
       "      <td>&lt;a class='k' href='https://m.weibo.cn/k/%E7%A6...</td>\n",
       "      <td>1</td>\n",
       "      <td>123</td>\n",
       "      <td>#福州身边事#【永泰梧桐镇果农用传统手工 制出原汁原味柿饼】@海峡都市报：秋季的福州乡村除了...</td>\n",
       "    </tr>\n",
       "    <tr>\n",
       "      <th>1</th>\n",
       "      <td>永泰梧桐镇果农用传统手工 制出原汁原味柿饼</td>\n",
       "      <td>2</td>\n",
       "      <td>456</td>\n",
       "      <td>永泰梧桐镇果农用传统手工 制出原汁原味柿饼</td>\n",
       "    </tr>\n",
       "  </tbody>\n",
       "</table>\n",
       "</div>"
      ],
      "text/plain": [
       "<div>\n",
       "<style>\n",
       "    .dataframe thead tr:only-child th {\n",
       "        text-align: right;\n",
       "    }\n",
       "\n",
       "    .dataframe thead th {\n",
       "        text-align: left;\n",
       "    }\n",
       "\n",
       "    .dataframe tbody tr th {\n",
       "        vertical-align: top;\n",
       "    }\n",
       "</style>\n",
       "<table border=\"1\" class=\"dataframe\">\n",
       "  <thead>\n",
       "    <tr style=\"text-align: right;\">\n",
       "      <th></th>\n",
       "      <th>col1</th>\n",
       "      <th>col2</th>\n",
       "      <th>col3</th>\n",
       "      <th>col4</th>\n",
       "    </tr>\n",
       "  </thead>\n",
       "  <tbody>\n",
       "    <tr>\n",
       "      <th>0</th>\n",
       "      <td>&lt;a class='k' href='https://m.weibo.cn/k/%E7%A6...</td>\n",
       "      <td>1</td>\n",
       "      <td>123</td>\n",
       "      <td>#福州身边事#【永泰梧桐镇果农用传统手工 制出原汁原味柿饼】@海峡都市报：秋季的福州乡村除了...</td>\n",
       "    </tr>\n",
       "    <tr>\n",
       "      <th>1</th>\n",
       "      <td>永泰梧桐镇果农用传统手工 制出原汁原味柿饼</td>\n",
       "      <td>2</td>\n",
       "      <td>456</td>\n",
       "      <td>永泰梧桐镇果农用传统手工 制出原汁原味柿饼</td>\n",
       "    </tr>\n",
       "  </tbody>\n",
       "</table>\n",
       "</div>"
      ]
     },
     "execution_count": 21,
     "metadata": {},
     "output_type": "execute_result"
    }
   ],
   "source": [
    "col1 = df1[\"col1\"].tolist()\n",
    "col4 = []\n",
    "for i in col1:\n",
    "    s = xpathFunc(i.encode(\"utf-8\"))\n",
    "    col4 = col4 + [s]\n",
    "print col4\n",
    "for i in col4:\n",
    "    print i.encode(\"utf-8\")\n",
    "df1[\"col4\"] = col4\n",
    "df1"
   ]
  },
  {
   "cell_type": "code",
   "execution_count": 21,
   "metadata": {},
   "outputs": [],
   "source": [
    ""
   ]
  },
  {
   "cell_type": "code",
   "execution_count": null,
   "metadata": {},
   "outputs": [],
   "source": [
    ""
   ]
  },
  {
   "cell_type": "code",
   "execution_count": null,
   "metadata": {},
   "outputs": [],
   "source": [
    ""
   ]
  },
  {
   "cell_type": "code",
   "execution_count": null,
   "metadata": {},
   "outputs": [],
   "source": [
    ""
   ]
  },
  {
   "cell_type": "code",
   "execution_count": null,
   "metadata": {},
   "outputs": [],
   "source": [
    ""
   ]
  },
  {
   "cell_type": "code",
   "execution_count": null,
   "metadata": {},
   "outputs": [],
   "source": [
    ""
   ]
  },
  {
   "cell_type": "code",
   "execution_count": null,
   "metadata": {},
   "outputs": [],
   "source": [
    ""
   ]
  },
  {
   "cell_type": "code",
   "execution_count": null,
   "metadata": {},
   "outputs": [],
   "source": [
    ""
   ]
  }
 ],
 "metadata": {
  "kernelspec": {
   "display_name": "Python 2",
   "language": "python",
   "name": "python2"
  },
  "language_info": {
   "codemirror_mode": {
    "name": "ipython",
    "version": 2.0
   },
   "file_extension": ".py",
   "mimetype": "text/x-python",
   "name": "python",
   "nbconvert_exporter": "python",
   "pygments_lexer": "ipython2",
   "version": "2.7.6"
  }
 },
 "nbformat": 4,
 "nbformat_minor": 0
}