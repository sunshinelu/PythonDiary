{
 "cells": [
  {
   "cell_type": "markdown",
   "metadata": {
    "collapsed": true
   },
   "source": [
    "# 使用正则清洗微博数据"
   ]
  },
  {
   "cell_type": "code",
   "execution_count": 1,
   "metadata": {},
   "outputs": [],
   "source": [
    "import pandas as pd\n",
    "import pymysql\n",
    "import numpy as np\n",
    "from lxml import etree\n",
    "import re\n",
    "import chardet"
   ]
  },
  {
   "cell_type": "code",
   "execution_count": 34,
   "metadata": {},
   "outputs": [],
   "source": [
    "s1 = \"//@央视新闻:【心怡的病情又恶化了】心怡最近检查显示，其骨髓恶性肿瘤细胞又上升了。\" \\\n",
    "     \" #福州身边事#【永泰梧桐镇果农用传统手工 制出原汁原味柿饼】@海峡都市报：秋季的福州乡村除了\""
   ]
  },
  {
   "cell_type": "code",
   "execution_count": 28,
   "metadata": {},
   "outputs": [
    {
     "name": "stdout",
     "output_type": "stream",
     "text": [
      "了】心怡最近检查显示，其骨髓恶性肿瘤细胞又上升了。 #福州身边事#【永泰梧桐镇果农用传统手工 制出原汁原味柿饼】��了\n"
     ]
    }
   ],
   "source": [
    "result1 = re.sub(r\"(@|//@)(.{3,40})(：|:)\", \"\", s1)\n",
    "print result1#.decode('utf-8').encode('utf-8')"
   ]
  },
  {
   "cell_type": "code",
   "execution_count": 32,
   "metadata": {},
   "outputs": [
    {
     "name": "stdout",
     "output_type": "stream",
     "text": [
      "//@央视新闻:【心怡的病情又恶化了】心怡最近检查显示，其骨髓恶性肿瘤细胞又上升了。 #福州身边事#【永泰梧桐镇果农用传统手工 制出原汁原味柿饼】@海峡都市报：秋季的福州乡村除了\n"
     ]
    }
   ],
   "source": [
    "s1 = \"//@央视新闻:【心怡的病情又恶化了】心怡最近检查显示，其骨髓恶性肿瘤细胞又上升了。\" \\\n",
    "      \"#福州身边事#【永泰梧桐镇果农用传统手工 制出原汁原味柿饼】@海峡都市报：秋季的福州乡村除了\"\n",
    "result1 = re.sub(r'@[\\u4e00-\\u9fa5a-zA-Z0-9_-]{2,30}', \"\", s1)\n",
    "print result1"
   ]
  },
  {
   "cell_type": "code",
   "execution_count": 7,
   "metadata": {},
   "outputs": [
    {
     "name": "stdout",
     "output_type": "stream",
     "text": [
      "//@央视新闻:【心怡的病情又恶化了】心怡最近检查显示，其骨髓恶性肿瘤细胞又上升了。 【永泰梧桐镇果农用传统手工 制出原汁原味柿饼】@海峡都市报：秋季的福州乡村除了\n"
     ]
    }
   ],
   "source": [
    "result2 = re.sub(r\"#[^#]+#\", \"\", s1)\n",
    "print result2"
   ]
  },
  {
   "cell_type": "code",
   "execution_count": 8,
   "metadata": {},
   "outputs": [
    {
     "name": "stdout",
     "output_type": "stream",
     "text": [
      "//@央视新闻:【心怡的病情又恶化了】心怡最近检查显示，其骨髓恶性肿瘤细胞又上升了。 #福州身边事#【永泰梧桐镇果农用传统手工 制出原汁原味柿饼】@海峡都市报：秋季的福州乡村除了\n"
     ]
    }
   ],
   "source": [
    "result3 = re.sub(r\"@[\\u4e00-\\u9fa5a-zA-Z0-9_-]{2,30}\", \"\",s1)\n",
    "print result3"
   ]
  },
  {
   "cell_type": "code",
   "execution_count": 39,
   "metadata": {},
   "outputs": [
    {
     "name": "stdout",
     "output_type": "stream",
     "text": [
      "[]\n"
     ]
    }
   ],
   "source": [
    "result3 = re.findall(r'@([\\u4e00-\\u9fa5\\w\\-]+)(:|：)',s1)\n",
    "print(result3)"
   ]
  },
  {
   "cell_type": "code",
   "execution_count": 40,
   "metadata": {},
   "outputs": [],
   "source": [
    "s2 = \"\"\"//<a href='https://m.weibo.cn/n/央视新闻'>@央视新闻</a>:【心怡的病情又恶化了】心怡最近检查显示，其骨髓恶性肿瘤细胞又上升了。为省钱，只能选择对身体危害较大的强化疗进行控制。如果不尽快进无菌舱接受骨髓移植，她将再次陷入危险！目前手术费仍有缺口， 我们一起努力，救救她！<a href='https://m.weibo.cn/n/中华思源工程扶贫基金会'>@中华思源工程扶贫基金会</a> 爱心募捐 <a data-url=\"http://t.cn/R5CTyxu\" href=\"http://gongyi.weibo.com/224654?url_type=39&object_type=event&pos=1&luicode=10000011&lfid=1076031689509251&ep=E2C07hLSu%2C1689509251%2CE01p4AWvV%2C2656274875\" data-hide=\"\"><span class=\"url-icon\"><img src=\"//h5.sinaimg.cn/upload/2015/09/25/3/timeline_card_small_web_default.png\"></span></i><span class=\"surl-text\">[个人求助]品学兼优的女孩患白血病</a>\"\"\""
   ]
  },
  {
   "cell_type": "code",
   "execution_count": 41,
   "metadata": {},
   "outputs": [
    {
     "name": "stdout",
     "output_type": "stream",
     "text": [
      "//@央视新闻:【心怡的病情又恶化了】心怡最近检查显示，其骨髓恶性肿瘤细胞又上升了。为省钱，只能选择对身体危害较大的强化疗进行控制。如果不尽快进无菌舱接受骨髓移植，她将再次陷入危险！目前手术费仍有缺口， 我们一起努力，救救她！@中华思源工程扶贫基金会 爱心募捐 [个人求助]品学兼优的女孩患白血病\n"
     ]
    }
   ],
   "source": [
    "selector=etree.HTML(s2.decode('utf-8'))\n",
    "html_data = selector.xpath('//text()')\n",
    "s3 = \"\"\n",
    "for i in html_data:\n",
    "    s3 = s3 + i\n",
    "print s3"
   ]
  },
  {
   "cell_type": "code",
   "execution_count": null,
   "metadata": {},
   "outputs": [],
   "source": [
    ""
   ]
  }
 ],
 "metadata": {
  "kernelspec": {
   "display_name": "Python 2",
   "language": "python",
   "name": "python2"
  },
  "language_info": {
   "codemirror_mode": {
    "name": "ipython",
    "version": 2.0
   },
   "file_extension": ".py",
   "mimetype": "text/x-python",
   "name": "python",
   "nbconvert_exporter": "python",
   "pygments_lexer": "ipython2",
   "version": "2.7.6"
  }
 },
 "nbformat": 4,
 "nbformat_minor": 0
}