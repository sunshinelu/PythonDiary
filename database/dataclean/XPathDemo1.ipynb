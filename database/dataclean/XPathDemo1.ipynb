{
 "cells": [
  {
   "cell_type": "markdown",
   "metadata": {
    "collapsed": true
   },
   "source": [
    "# XPath在python中的高级应用\n",
    "\n",
    "> 参考链接\n",
    "> XPath在python中的高级应用\n",
    "> <https://blog.csdn.net/winterto1990/article/details/47903653>\n",
    ">\n"
   ]
  },
  {
   "cell_type": "code",
   "execution_count": 1,
   "metadata": {},
   "outputs": [],
   "source": [
    "from lxml import etree"
   ]
  },
  {
   "cell_type": "code",
   "execution_count": 3,
   "metadata": {},
   "outputs": [
    {
     "data": {
      "text/plain": [
       "'\\n    <!DOCTYPE html>\\n    <html>\\n        <head lang=\"en\">\\n        <title>\\xe6\\xb5\\x8b\\xe8\\xaf\\x95</title>\\n        <meta http-equiv=\"Content-Type\" content=\"text/html; charset=utf-8\" />\\n        </head>\\n        <body>\\n            <div id=\"content\">\\n                <ul id=\"ul\">\\n                    <li>NO.1</li>\\n                    <li>NO.2</li>\\n                    <li>NO.3</li>\\n                </ul>\\n                <ul id=\"ul2\">\\n                    <li>one</li>\\n                    <li>two</li>\\n                </ul>\\n            </div>\\n            <div id=\"url\">\\n                <a href=\"http:www.58.com\" title=\"58\">58</a>\\n                <a href=\"http:www.csdn.net\" title=\"CSDN\">CSDN</a>\\n            </div>\\n        </body>\\n    </html>\\n'"
      ]
     },
     "execution_count": 3,
     "metadata": {},
     "output_type": "execute_result"
    }
   ],
   "source": [
    "html=\"\"\"\n",
    "    <!DOCTYPE html>\n",
    "    <html>\n",
    "        <head lang=\"en\">\n",
    "        <title>测试</title>\n",
    "        <meta http-equiv=\"Content-Type\" content=\"text/html; charset=utf-8\" />\n",
    "        </head>\n",
    "        <body>\n",
    "            <div id=\"content\">\n",
    "                <ul id=\"ul\">\n",
    "                    <li>NO.1</li>\n",
    "                    <li>NO.2</li>\n",
    "                    <li>NO.3</li>\n",
    "                </ul>\n",
    "                <ul id=\"ul2\">\n",
    "                    <li>one</li>\n",
    "                    <li>two</li>\n",
    "                </ul>\n",
    "            </div>\n",
    "            <div id=\"url\">\n",
    "                <a href=\"http:www.58.com\" title=\"58\">58</a>\n",
    "                <a href=\"http:www.csdn.net\" title=\"CSDN\">CSDN</a>\n",
    "            </div>\n",
    "        </body>\n",
    "    </html>\n",
    "\"\"\"\n",
    "html"
   ]
  },
  {
   "cell_type": "code",
   "execution_count": 4,
   "metadata": {},
   "outputs": [
    {
     "name": "stdout",
     "output_type": "stream",
     "text": [
      "NO.1\nNO.2\nNO.3\n"
     ]
    }
   ],
   "source": [
    "selector=etree.HTML(html)\n",
    "content=selector.xpath('//div[@id=\"content\"]/ul[@id=\"ul\"]/li/text()') #这里使用id属性来定位哪个div和ul被匹配 使用text()获取文本内容\n",
    "for i in content:\n",
    "    print i"
   ]
  },
  {
   "cell_type": "code",
   "execution_count": 5,
   "metadata": {},
   "outputs": [
    {
     "name": "stdout",
     "output_type": "stream",
     "text": [
      "http:www.58.com\nhttp:www.csdn.net\n"
     ]
    }
   ],
   "source": [
    "con=selector.xpath('//a/@href') #这里使用//从全文中定位符合条件的a标签，使用“@标签属性”获取a便签的href属性值\n",
    "for each in con:\n",
    "    print each"
   ]
  },
  {
   "cell_type": "code",
   "execution_count": 10,
   "metadata": {},
   "outputs": [
    {
     "name": "stdout",
     "output_type": "stream",
     "text": [
      "2\n58 CSDN\n"
     ]
    }
   ],
   "source": [
    "con=selector.xpath('/html/body/div/a/@title') #使用绝对路径定位a标签的title\n",
    "con=selector.xpath('//a/@title') #使用相对路径定位 两者效果是一样的\n",
    "print len(con)\n",
    "print con[0] + \" \" + con[1]"
   ]
  },
  {
   "cell_type": "markdown",
   "metadata": {},
   "source": [
    "### 1) starts-with 解决标签属性值以相同字符串开头的情况"
   ]
  },
  {
   "cell_type": "code",
   "execution_count": 12,
   "metadata": {},
   "outputs": [
    {
     "name": "stdout",
     "output_type": "stream",
     "text": [
      "aa\nab\nac\n"
     ]
    }
   ],
   "source": [
    "from lxml import etree\n",
    "html=\"\"\"\n",
    "    <body>\n",
    "        <div id=\"aa\">aa</div>\n",
    "        <div id=\"ab\">ab</div>\n",
    "        <div id=\"ac\">ac</div>\n",
    "    </body>\n",
    "    \"\"\"\n",
    "selector=etree.HTML(html)\n",
    "content=selector.xpath('//div[starts-with(@id,\"a\")]/text()') #这里使用starts-with方法提取div的id标签属性值开头为a的div标签\n",
    "for each in content:\n",
    "    print each"
   ]
  },
  {
   "cell_type": "markdown",
   "metadata": {},
   "source": [
    "### 2） string(.) 标签套标签"
   ]
  },
  {
   "cell_type": "code",
   "execution_count": 13,
   "metadata": {},
   "outputs": [
    {
     "name": "stdout",
     "output_type": "stream",
     "text": [
      "\n    left\n        \n\n        west\n    \n"
     ]
    }
   ],
   "source": [
    "html=\"\"\"\n",
    "    <div id=\"a\">\n",
    "    left\n",
    "        <span id=\"b\">\n",
    "        right\n",
    "            <ul>\n",
    "            up\n",
    "                <li>down</li>\n",
    "            </ul>\n",
    "        east\n",
    "        </span>\n",
    "        west\n",
    "    </div>\n",
    "\"\"\"\n",
    "#下面是没有用string方法的输出\n",
    "sel=etree.HTML(html)\n",
    "con=sel.xpath('//div[@id=\"a\"]/text()')\n",
    "for i in con:\n",
    "    print i   #输出内容为left west"
   ]
  },
  {
   "cell_type": "code",
   "execution_count": 14,
   "metadata": {},
   "outputs": [
    {
     "name": "stdout",
     "output_type": "stream",
     "text": [
      "l\ne\nf\nt\nr\ni\ng\nh\nt\nu\np\nd\no\nw\nn\ne\na\ns\nt\nw\ne\ns\nt\n"
     ]
    }
   ],
   "source": [
    "data=sel.xpath('//div[@id=\"a\"]')[0]\n",
    "info=data.xpath('string(.)')\n",
    "content=info.replace('\\n','').replace(' ','')\n",
    "for i in content:\n",
    "    print i #输出为 全部内容"
   ]
  },
  {
   "cell_type": "code",
   "execution_count": null,
   "metadata": {},
   "outputs": [],
   "source": [
    ""
   ]
  }
 ],
 "metadata": {
  "kernelspec": {
   "display_name": "Python 2",
   "language": "python",
   "name": "python2"
  },
  "language_info": {
   "codemirror_mode": {
    "name": "ipython",
    "version": 2.0
   },
   "file_extension": ".py",
   "mimetype": "text/x-python",
   "name": "python",
   "nbconvert_exporter": "python",
   "pygments_lexer": "ipython2",
   "version": "2.7.6"
  }
 },
 "nbformat": 4,
 "nbformat_minor": 0
}