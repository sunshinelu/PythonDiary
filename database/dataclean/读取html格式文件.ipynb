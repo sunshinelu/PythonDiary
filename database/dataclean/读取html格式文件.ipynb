{
 "cells": [
  {
   "cell_type": "code",
   "execution_count": null,
   "metadata": {
    "collapsed": true
   },
   "outputs": [],
   "source": [
    ""
   ]
  },
  {
   "cell_type": "code",
   "execution_count": 5,
   "metadata": {},
   "outputs": [],
   "source": [
    "from lxml import etree"
   ]
  },
  {
   "cell_type": "code",
   "execution_count": 27,
   "metadata": {},
   "outputs": [
    {
     "name": "stdout",
     "output_type": "stream",
     "text": [
      "<a class='k' href='https://m.weibo.cn/k/%E7%A6%8F%E5%B7%9E%E8%BA%AB%E8%BE%B9%E4%BA%8B?from=feed'>#福州身边事#</a>【永泰梧桐镇果农用传统手工 制出原汁原味柿饼】<a href='https://m.weibo.cn/n/海峡都市报'>@海峡都市报</a>：秋季的福州乡村除了层林尽染，绵延无尽的斑斓美景，还有乡亲们收秋晒秋的忙碌身影。在永泰梧桐镇，山里柿子红彤彤挂满枝头，村民们趁着柿子还没软就采摘下来，开始一年一度传统手工劳作：去皮、晾晒、出霜，做成美味的柿饼。vi ​​​...<a href=\"/status/4040267663381680\">全文</a>\n"
     ]
    }
   ],
   "source": [
    "s = \"\"\"<a class='k' href='https://m.weibo.cn/k/%E7%A6%8F%E5%B7%9E%E8%BA%AB%E8%BE%B9%E4%BA%8B?from=feed'>#福州身边事#</a>【永泰梧桐镇果农用传统手工 制出原汁原味柿饼】<a href='https://m.weibo.cn/n/海峡都市报'>@海峡都市报</a>：秋季的福州乡村除了层林尽染，绵延无尽的斑斓美景，还有乡亲们收秋晒秋的忙碌身影。在永泰梧桐镇，山里柿子红彤彤挂满枝头，村民们趁着柿子还没软就采摘下来，开始一年一度传统手工劳作：去皮、晾晒、出霜，做成美味的柿饼。vi ​​​...<a href=\"/status/4040267663381680\">全文</a>\"\"\"\n",
    "print s.decode(\"utf-8\")#.encode(\"utf-8\")"
   ]
  },
  {
   "cell_type": "code",
   "execution_count": 17,
   "metadata": {},
   "outputs": [
    {
     "name": "stdout",
     "output_type": "stream",
     "text": [
      "<Element html at 0x107d917a0>\n============\n<html><body><a class=\"k\" href=\"https://m.weibo.cn/k/%E7%A6%8F%E5%B7%9E%E8%BA%AB%E8%BE%B9%E4%BA%8B?from=feed\">#&#31119;&#24030;&#36523;&#36793;&#20107;#</a>&#12304;&#27704;&#27888;&#26791;&#26704;&#38215;&#26524;&#20892;&#29992;&#20256;&#32479;&#25163;&#24037; &#21046;&#20986;&#21407;&#27713;&#21407;&#21619;&#26623;&#39292;&#12305;<a href=\"https://m.weibo.cn/n/&#28023;&#23777;&#37117;&#24066;&#25253;\">@&#28023;&#23777;&#37117;&#24066;&#25253;</a>&#65306;&#31179;&#23395;&#30340;&#31119;&#24030;&#20065;&#26449;&#38500;&#20102;&#23618;&#26519;&#23613;&#26579;&#65292;&#32501;&#24310;&#26080;&#23613;&#30340;&#26001;&#26003;&#32654;&#26223;&#65292;&#36824;&#26377;&#20065;&#20146;&#20204;&#25910;&#31179;&#26194;&#31179;&#30340;&#24537;&#30860;&#36523;&#24433;&#12290;&#22312;&#27704;&#27888;&#26791;&#26704;&#38215;&#65292;&#23665;&#37324;&#26623;&#23376;&#32418;&#24420;&#24420;&#25346;&#28385;&#26525;&#22836;&#65292;&#26449;&#27665;&#20204;&#36225;&#30528;&#26623;&#23376;&#36824;&#27809;&#36719;&#23601;&#37319;&#25688;&#19979;&#26469;&#65292;&#24320;&#22987;&#19968;&#24180;&#19968;&#24230;&#20256;&#32479;&#25163;&#24037;&#21171;&#20316;&#65306;&#21435;&#30382;&#12289;&#26238;&#26194;&#12289;&#20986;&#38684;&#65292;&#20570;&#25104;&#32654;&#21619;&#30340;&#26623;&#39292;&#12290;vi &#8203;&#8203;&#8203;...<a href=\"/status/4040267663381680\">&#20840;&#25991;</a></body></html>\n============\n['https://m.weibo.cn/k/%E7%A6%8F%E5%B7%9E%E8%BA%AB%E8%BE%B9%E4%BA%8B?from=feed', u'https://m.weibo.cn/n/\\u6d77\\u5ce1\\u90fd\\u5e02\\u62a5', '/status/4040267663381680']\n"
     ]
    }
   ],
   "source": [
    "html=etree.HTML(s.decode(\"utf-8\"))\n",
    "print(html)\n",
    "print \"============\"\n",
    "result = etree.tostring(html)\n",
    "print(result.decode(\"utf-8\"))\n",
    "print \"============\"\n",
    "html_data = html.xpath('//a/@href')\n",
    "print html_data"
   ]
  },
  {
   "cell_type": "code",
   "execution_count": 5,
   "metadata": {},
   "outputs": [],
   "source": [
    "# import sys  \n",
    "# reload(sys)  \n",
    "# sys.setdefaultencoding('utf8')"
   ]
  },
  {
   "cell_type": "code",
   "execution_count": 24,
   "metadata": {},
   "outputs": [
    {
     "name": "stdout",
     "output_type": "stream",
     "text": [
      "#福州身边事#\n@海峡都市报\n全文\n"
     ]
    }
   ],
   "source": [
    "selector=etree.HTML(s.decode('utf-8'))\n",
    "html_data = selector.xpath('//a/text()')\n",
    "for i in html_data:\n",
    "    print i.encode('utf-8')"
   ]
  },
  {
   "cell_type": "code",
   "execution_count": 23,
   "metadata": {},
   "outputs": [
    {
     "name": "stdout",
     "output_type": "stream",
     "text": [
      "#福州身边事#\n@海峡都市报\n全文\n"
     ]
    }
   ],
   "source": [
    "selector=etree.HTML(s.decode('utf-8'))\n",
    "html_data = selector.xpath('//a//text()')\n",
    "for i in html_data:\n",
    "    print i.encode('utf-8')"
   ]
  },
  {
   "cell_type": "code",
   "execution_count": 20,
   "metadata": {},
   "outputs": [
    {
     "name": "stdout",
     "output_type": "stream",
     "text": [
      "#福州身边事#\n【永泰梧桐镇果农用传统手工 制出原汁原味柿饼】\n@海峡都市报\n：秋季的福州乡村除了层林尽染，绵延无尽的斑斓美景，还有乡亲们收秋晒秋的忙碌身影。在永泰梧桐镇，山里柿子红彤彤挂满枝头，村民们趁着柿子还没软就采摘下来，开始一年一度传统手工劳作：去皮、晾晒、出霜，做成美味的柿饼。vi ​​​...\n全文\n"
     ]
    }
   ],
   "source": [
    "selector=etree.HTML(s.decode('utf-8'))\n",
    "html_data = selector.xpath('//text()')\n",
    "for i in html_data:\n",
    "    print i.encode('utf-8')"
   ]
  },
  {
   "cell_type": "code",
   "execution_count": 28,
   "metadata": {},
   "outputs": [
    {
     "name": "stdout",
     "output_type": "stream",
     "text": [
      "#福州身边事#【永泰梧桐镇果农用传统手工 制出原汁原味柿饼】@海峡都市报：秋季的福州乡村除了层林尽染，绵延无尽的斑斓美景，还有乡亲们收秋晒秋的忙碌身影。在永泰梧桐镇，山里柿子红彤彤挂满枝头，村民们趁着柿子还没软就采摘下来，开始一年一度传统手工劳作：去皮、晾晒、出霜，做成美味的柿饼。vi ​​​...全文\n"
     ]
    }
   ],
   "source": [
    "selector=etree.HTML(s.decode('utf-8'))\n",
    "html_data = selector.xpath('//text()')\n",
    "s2 = \"\"\n",
    "for i in html_data:\n",
    "    s2 = s2 + i\n",
    "print s2"
   ]
  },
  {
   "cell_type": "code",
   "execution_count": null,
   "metadata": {},
   "outputs": [],
   "source": [
    ""
   ]
  }
 ],
 "metadata": {
  "kernelspec": {
   "display_name": "Python 2",
   "language": "python",
   "name": "python2"
  },
  "language_info": {
   "codemirror_mode": {
    "name": "ipython",
    "version": 2.0
   },
   "file_extension": ".py",
   "mimetype": "text/x-python",
   "name": "python",
   "nbconvert_exporter": "python",
   "pygments_lexer": "ipython2",
   "version": "2.7.6"
  }
 },
 "nbformat": 4,
 "nbformat_minor": 0
}