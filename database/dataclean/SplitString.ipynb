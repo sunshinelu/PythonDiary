{
 "cells": [
  {
   "cell_type": "markdown",
   "metadata": {
    "collapsed": true
   },
   "source": [
    "对string字符串按照字符进行分割，并以空格为分隔符拼成新的字符串"
   ]
  },
  {
   "cell_type": "code",
   "execution_count": null,
   "metadata": {},
   "outputs": [],
   "source": [
    "a = \"今天天气很好！\".decode('utf-8')"
   ]
  },
  {
   "cell_type": "code",
   "execution_count": 8,
   "metadata": {},
   "outputs": [
    {
     "name": "stdout",
     "output_type": "stream",
     "text": [
      "今\n天\n天\n气\n很\n好\n！\n"
     ]
    }
   ],
   "source": [
    "for x in a:\n",
    "    print(x.encode('utf-8'))"
   ]
  },
  {
   "cell_type": "code",
   "execution_count": 9,
   "metadata": {},
   "outputs": [
    {
     "name": "stdout",
     "output_type": "stream",
     "text": [
      " 今 天 天 气 很 好 ！\n"
     ]
    }
   ],
   "source": [
    "s = \"\"\n",
    "for x in a:\n",
    "    s = s + \" \" + x\n",
    "\n",
    "print s"
   ]
  },
  {
   "cell_type": "code",
   "execution_count": 1,
   "metadata": {},
   "outputs": [],
   "source": [
    "import numpy as np\n",
    "import pandas as pd"
   ]
  },
  {
   "cell_type": "code",
   "execution_count": 2,
   "metadata": {},
   "outputs": [
    {
     "data": {
      "text/html": [
       "<div>\n",
       "<style>\n",
       "    .dataframe thead tr:only-child th {\n",
       "        text-align: right;\n",
       "    }\n",
       "\n",
       "    .dataframe thead th {\n",
       "        text-align: left;\n",
       "    }\n",
       "\n",
       "    .dataframe tbody tr th {\n",
       "        vertical-align: top;\n",
       "    }\n",
       "</style>\n",
       "<table border=\"1\" class=\"dataframe\">\n",
       "  <thead>\n",
       "    <tr style=\"text-align: right;\">\n",
       "      <th></th>\n",
       "      <th>col1</th>\n",
       "      <th>col2</th>\n",
       "      <th>col3</th>\n",
       "    </tr>\n",
       "  </thead>\n",
       "  <tbody>\n",
       "    <tr>\n",
       "      <th>0</th>\n",
       "      <td>0.956972</td>\n",
       "      <td>1.0</td>\n",
       "      <td>今天天气很好！</td>\n",
       "    </tr>\n",
       "    <tr>\n",
       "      <th>1</th>\n",
       "      <td>0.599153</td>\n",
       "      <td>2.0</td>\n",
       "      <td>今天星期二。</td>\n",
       "    </tr>\n",
       "    <tr>\n",
       "      <th>2</th>\n",
       "      <td>0.398044</td>\n",
       "      <td>3.0</td>\n",
       "      <td>今天天气挺冷的。</td>\n",
       "    </tr>\n",
       "    <tr>\n",
       "      <th>3</th>\n",
       "      <td>0.802983</td>\n",
       "      <td>4.0</td>\n",
       "      <td>到底什么时候开工程技术中心周例会</td>\n",
       "    </tr>\n",
       "  </tbody>\n",
       "</table>\n",
       "</div>"
      ],
      "text/plain": [
       "<div>\n",
       "<style>\n",
       "    .dataframe thead tr:only-child th {\n",
       "        text-align: right;\n",
       "    }\n",
       "\n",
       "    .dataframe thead th {\n",
       "        text-align: left;\n",
       "    }\n",
       "\n",
       "    .dataframe tbody tr th {\n",
       "        vertical-align: top;\n",
       "    }\n",
       "</style>\n",
       "<table border=\"1\" class=\"dataframe\">\n",
       "  <thead>\n",
       "    <tr style=\"text-align: right;\">\n",
       "      <th></th>\n",
       "      <th>col1</th>\n",
       "      <th>col2</th>\n",
       "      <th>col3</th>\n",
       "    </tr>\n",
       "  </thead>\n",
       "  <tbody>\n",
       "    <tr>\n",
       "      <th>0</th>\n",
       "      <td>0.956972</td>\n",
       "      <td>1.0</td>\n",
       "      <td>今天天气很好！</td>\n",
       "    </tr>\n",
       "    <tr>\n",
       "      <th>1</th>\n",
       "      <td>0.599153</td>\n",
       "      <td>2.0</td>\n",
       "      <td>今天星期二。</td>\n",
       "    </tr>\n",
       "    <tr>\n",
       "      <th>2</th>\n",
       "      <td>0.398044</td>\n",
       "      <td>3.0</td>\n",
       "      <td>今天天气挺冷的。</td>\n",
       "    </tr>\n",
       "    <tr>\n",
       "      <th>3</th>\n",
       "      <td>0.802983</td>\n",
       "      <td>4.0</td>\n",
       "      <td>到底什么时候开工程技术中心周例会</td>\n",
       "    </tr>\n",
       "  </tbody>\n",
       "</table>\n",
       "</div>"
      ]
     },
     "execution_count": 2,
     "metadata": {},
     "output_type": "execute_result"
    }
   ],
   "source": [
    "df1 = pd.DataFrame({\"col1\":np.random.rand(4), \n",
    "                    \"col2\":np.linspace(1,4,4),\n",
    "                    \"col3\":[\"今天天气很好！\", \"今天星期二。\", \"今天天气挺冷的。\", \"到底什么时候开工程技术中心周例会\"]})\n",
    "df1"
   ]
  },
  {
   "cell_type": "code",
   "execution_count": 3,
   "metadata": {},
   "outputs": [
    {
     "name": "stdout",
     "output_type": "stream",
     "text": [
      "<type 'str'>\n<type 'str'>\n<type 'str'>\n<type 'str'>\n"
     ]
    }
   ],
   "source": [
    "for i in df1['col3']:\n",
    "    print type(i)"
   ]
  },
  {
   "cell_type": "code",
   "execution_count": 8,
   "metadata": {},
   "outputs": [
    {
     "name": "stdout",
     "output_type": "stream",
     "text": [
      "<type 'unicode'>\n今天天气很好！\n<type 'unicode'>\n今天星期二。\n<type 'unicode'>\n今天天气挺冷的。\n<type 'unicode'>\n到底什么时候开工程技术中心周例会\n"
     ]
    }
   ],
   "source": [
    "col3 = []\n",
    "for i in df1['col3']:\n",
    "    s = i.decode('utf-8')\n",
    "    col3 = col3 + [s]\n",
    "for i in col3:\n",
    "    print type(i)\n",
    "    print i"
   ]
  },
  {
   "cell_type": "code",
   "execution_count": 5,
   "metadata": {},
   "outputs": [
    {
     "name": "stdout",
     "output_type": "stream",
     "text": [
      "<type 'str'>\n � � � � � � � � � � � � � � � � � � � � �\n<type 'str'>\n � � � � � � � � � � � � � � � � � �\n<type 'str'>\n � � � � � � � � � � � � � � � � � � � � � � � �\n<type 'str'>\n � � � � � � � � � � � � � � � � � � � � � � � � � � � � � � � � � � � � � � � � � � � � � � � �\n"
     ]
    }
   ],
   "source": [
    "col4 = []\n",
    "for i in df1[\"col3\"]:\n",
    "    s = \"\"\n",
    "    for j in i:\n",
    "        s = s + \" \" + j\n",
    "    col4 = col4 + [s]\n",
    "\n",
    "for i in col4:\n",
    "    print type(i)\n",
    "    print i"
   ]
  },
  {
   "cell_type": "markdown",
   "metadata": {},
   "source": [
    "对df1中的col3按照字符分割，以空格作为分隔符，作为新生成的col4"
   ]
  },
  {
   "cell_type": "code",
   "execution_count": 7,
   "metadata": {},
   "outputs": [
    {
     "name": "stdout",
     "output_type": "stream",
     "text": [
      "<type 'unicode'>\n 今 天 天 气 很 好 ！\n<type 'unicode'>\n 今 天 星 期 二 。\n<type 'unicode'>\n 今 天 天 气 挺 冷 的 。\n<type 'unicode'>\n 到 底 什 么 时 候 开 工 程 技 术 中 心 周 例 会\n"
     ]
    },
    {
     "data": {
      "text/html": [
       "<div>\n",
       "<style>\n",
       "    .dataframe thead tr:only-child th {\n",
       "        text-align: right;\n",
       "    }\n",
       "\n",
       "    .dataframe thead th {\n",
       "        text-align: left;\n",
       "    }\n",
       "\n",
       "    .dataframe tbody tr th {\n",
       "        vertical-align: top;\n",
       "    }\n",
       "</style>\n",
       "<table border=\"1\" class=\"dataframe\">\n",
       "  <thead>\n",
       "    <tr style=\"text-align: right;\">\n",
       "      <th></th>\n",
       "      <th>col1</th>\n",
       "      <th>col2</th>\n",
       "      <th>col3</th>\n",
       "      <th>col4</th>\n",
       "    </tr>\n",
       "  </thead>\n",
       "  <tbody>\n",
       "    <tr>\n",
       "      <th>0</th>\n",
       "      <td>0.956972</td>\n",
       "      <td>1.0</td>\n",
       "      <td>今天天气很好！</td>\n",
       "      <td>今 天 天 气 很 好 ！</td>\n",
       "    </tr>\n",
       "    <tr>\n",
       "      <th>1</th>\n",
       "      <td>0.599153</td>\n",
       "      <td>2.0</td>\n",
       "      <td>今天星期二。</td>\n",
       "      <td>今 天 星 期 二 。</td>\n",
       "    </tr>\n",
       "    <tr>\n",
       "      <th>2</th>\n",
       "      <td>0.398044</td>\n",
       "      <td>3.0</td>\n",
       "      <td>今天天气挺冷的。</td>\n",
       "      <td>今 天 天 气 挺 冷 的 。</td>\n",
       "    </tr>\n",
       "    <tr>\n",
       "      <th>3</th>\n",
       "      <td>0.802983</td>\n",
       "      <td>4.0</td>\n",
       "      <td>到底什么时候开工程技术中心周例会</td>\n",
       "      <td>到 底 什 么 时 候 开 工 程 技 术 中 心 周 例 会</td>\n",
       "    </tr>\n",
       "  </tbody>\n",
       "</table>\n",
       "</div>"
      ],
      "text/plain": [
       "<div>\n",
       "<style>\n",
       "    .dataframe thead tr:only-child th {\n",
       "        text-align: right;\n",
       "    }\n",
       "\n",
       "    .dataframe thead th {\n",
       "        text-align: left;\n",
       "    }\n",
       "\n",
       "    .dataframe tbody tr th {\n",
       "        vertical-align: top;\n",
       "    }\n",
       "</style>\n",
       "<table border=\"1\" class=\"dataframe\">\n",
       "  <thead>\n",
       "    <tr style=\"text-align: right;\">\n",
       "      <th></th>\n",
       "      <th>col1</th>\n",
       "      <th>col2</th>\n",
       "      <th>col3</th>\n",
       "      <th>col4</th>\n",
       "    </tr>\n",
       "  </thead>\n",
       "  <tbody>\n",
       "    <tr>\n",
       "      <th>0</th>\n",
       "      <td>0.956972</td>\n",
       "      <td>1.0</td>\n",
       "      <td>今天天气很好！</td>\n",
       "      <td>今 天 天 气 很 好 ！</td>\n",
       "    </tr>\n",
       "    <tr>\n",
       "      <th>1</th>\n",
       "      <td>0.599153</td>\n",
       "      <td>2.0</td>\n",
       "      <td>今天星期二。</td>\n",
       "      <td>今 天 星 期 二 。</td>\n",
       "    </tr>\n",
       "    <tr>\n",
       "      <th>2</th>\n",
       "      <td>0.398044</td>\n",
       "      <td>3.0</td>\n",
       "      <td>今天天气挺冷的。</td>\n",
       "      <td>今 天 天 气 挺 冷 的 。</td>\n",
       "    </tr>\n",
       "    <tr>\n",
       "      <th>3</th>\n",
       "      <td>0.802983</td>\n",
       "      <td>4.0</td>\n",
       "      <td>到底什么时候开工程技术中心周例会</td>\n",
       "      <td>到 底 什 么 时 候 开 工 程 技 术 中 心 周 例 会</td>\n",
       "    </tr>\n",
       "  </tbody>\n",
       "</table>\n",
       "</div>"
      ]
     },
     "execution_count": 7,
     "metadata": {},
     "output_type": "execute_result"
    }
   ],
   "source": [
    "col4 = []\n",
    "for i in col3:\n",
    "    s = \"\"\n",
    "    for j in i:\n",
    "        s = s + \" \" + j\n",
    "    col4 = col4 + [s]\n",
    "\n",
    "for i in col4:\n",
    "    print type(i)\n",
    "    print i\n",
    "\n",
    "df1['col4'] = col4\n",
    "df1"
   ]
  },
  {
   "cell_type": "code",
   "execution_count": null,
   "metadata": {},
   "outputs": [],
   "source": [
    ""
   ]
  }
 ],
 "metadata": {
  "kernelspec": {
   "display_name": "Python 2",
   "language": "python",
   "name": "python2"
  },
  "language_info": {
   "codemirror_mode": {
    "name": "ipython",
    "version": 2.0
   },
   "file_extension": ".py",
   "mimetype": "text/x-python",
   "name": "python",
   "nbconvert_exporter": "python",
   "pygments_lexer": "ipython2",
   "version": "2.7.6"
  }
 },
 "nbformat": 4,
 "nbformat_minor": 0
}