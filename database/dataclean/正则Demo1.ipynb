{
 "cells": [
  {
   "cell_type": "markdown",
   "metadata": {
    "collapsed": true
   },
   "source": [
    "# 使用正则进行数据清洗"
   ]
  },
  {
   "cell_type": "markdown",
   "metadata": {},
   "source": [
    "## 1. 提取字符串中中括号里面的内容"
   ]
  },
  {
   "cell_type": "code",
   "execution_count": 6,
   "metadata": {},
   "outputs": [],
   "source": [
    "import re"
   ]
  },
  {
   "cell_type": "code",
   "execution_count": 14,
   "metadata": {},
   "outputs": [
    {
     "name": "stdout",
     "output_type": "stream",
     "text": [
      "福州闯红灯会被抓拍曝光并罚款\n"
     ]
    }
   ],
   "source": [
    "s = \"【福州闯红灯会被抓拍曝光并罚款】广大行人和骑车人都要注意啦，闯红灯就会被抓拍和曝光。\"\n",
    "s1 = re.findall(r'【(.*)】', s)\n",
    "s2 = \"\"\n",
    "for i in s1:\n",
    "    s2 = s2 + i\n",
    "print s2"
   ]
  },
  {
   "cell_type": "code",
   "execution_count": 17,
   "metadata": {},
   "outputs": [
    {
     "data": {
      "text/plain": [
       "str"
      ]
     },
     "execution_count": 17,
     "metadata": {},
     "output_type": "execute_result"
    }
   ],
   "source": [
    "s1\n",
    "type(s2)"
   ]
  },
  {
   "cell_type": "code",
   "execution_count": 1,
   "metadata": {},
   "outputs": [
    {
     "data": {
      "text/plain": [
       "'\\xe3\\x80\\x90'"
      ]
     },
     "execution_count": 1,
     "metadata": {},
     "output_type": "execute_result"
    }
   ],
   "source": [
    "\"【\""
   ]
  },
  {
   "cell_type": "code",
   "execution_count": 2,
   "metadata": {},
   "outputs": [
    {
     "data": {
      "text/plain": [
       "str"
      ]
     },
     "execution_count": 2,
     "metadata": {},
     "output_type": "execute_result"
    }
   ],
   "source": [
    "type(\"【\")"
   ]
  },
  {
   "cell_type": "code",
   "execution_count": 3,
   "metadata": {},
   "outputs": [
    {
     "data": {
      "text/plain": [
       "u'\\u3010'"
      ]
     },
     "execution_count": 3,
     "metadata": {},
     "output_type": "execute_result"
    }
   ],
   "source": [
    "u\"【\""
   ]
  },
  {
   "cell_type": "code",
   "execution_count": 4,
   "metadata": {},
   "outputs": [
    {
     "data": {
      "text/plain": [
       "unicode"
      ]
     },
     "execution_count": 4,
     "metadata": {},
     "output_type": "execute_result"
    }
   ],
   "source": [
    "type(u\"【\")"
   ]
  },
  {
   "cell_type": "code",
   "execution_count": 11,
   "metadata": {},
   "outputs": [
    {
     "name": "stdout",
     "output_type": "stream",
     "text": [
      "\n"
     ]
    }
   ],
   "source": [
    "s = u\"【福州闯红灯会被抓拍曝光并罚款】广大行人和骑车人都要注意啦，闯红灯就会被抓拍和曝光。\"\n",
    "#s1 = re.findall(r\"u'\\u3010'(.*)u'\\u3010'\", s)\n",
    "s1 = re.findall(r'【(.*)】', s)\n",
    "s2 = \"\"\n",
    "for i in s1:\n",
    "    s2 = s2 + i\n",
    "print s2"
   ]
  },
  {
   "cell_type": "code",
   "execution_count": 11,
   "metadata": {},
   "outputs": [
    {
     "name": "stdout",
     "output_type": "stream",
     "text": [
      "['2684561']\n"
     ]
    }
   ],
   "source": [
    "strA = \"This is test for get a number 2684561 End\"  \n",
    "num = re.findall(r'\\b\\d.*\\d\\b', strA)  \n",
    "print num"
   ]
  },
  {
   "cell_type": "code",
   "execution_count": 15,
   "metadata": {},
   "outputs": [
    {
     "name": "stdout",
     "output_type": "stream",
     "text": [
      "夜读：深入到骨子里的体面，不仅仅是有钱就可以】有人会算，一生要赚够多少钱，才能体面地生活。然而，体面的人生，不仅要及物，更要及心。体面首先是一种精神，是一个个细节。你所有读过的书、走过的路、见过的人、花掉的钱、待人接物的姿态，都隐藏着你的气质和体面。 【夜读\n=====\n夜读：深入到骨子里的体面，不仅仅是有钱就可以】有人会算，一生要赚够多少钱，才能体面地生活。然而，体面的人生，不仅要及物，更要及心。体面首先是一种精神，是一个个细节。你所有读过的书、走过的路、见过的人、花掉的钱、待人接物的姿态，都隐藏着你的气质和体面。 【夜读\n"
     ]
    }
   ],
   "source": [
    "s1 = \"【夜读：深入到骨子里的体面，不仅仅是有钱就可以】有人会算，一生要赚够多少钱，才能体面地生活。\" \\\n",
    "     \"然而，体面的人生，不仅要及物，更要及心。体面首先是一种精神，是一个个细节。\" \\\n",
    "     \"你所有读过的书、走过的路、见过的人、花掉的钱、待人接物的姿态，都隐藏着你的气质和体面。 【夜读】\"\n",
    "s2 = re.findall(r\"【(.*)】\", s1)\n",
    "for i in s2:\n",
    "    print i.decode(\"utf-8\").encode('utf-8')\n",
    "\n",
    "print \"=====\"\n",
    "print s2[0].decode(\"utf-8\").encode(\"utf-8\")"
   ]
  },
  {
   "cell_type": "code",
   "execution_count": 30,
   "metadata": {},
   "outputs": [
    {
     "name": "stdout",
     "output_type": "stream",
     "text": [
      "夜读：深入到骨子里的体面，不仅仅是有钱就可以\n=====\n['\\xe5\\xa4\\x9c\\xe8\\xaf\\xbb\\xef\\xbc\\x9a\\xe6\\xb7\\xb1\\xe5\\x85\\xa5\\xe5\\x88\\xb0\\xe9\\xaa\\xa8\\xe5\\xad\\x90\\xe9\\x87\\x8c\\xe7\\x9a\\x84\\xe4\\xbd\\x93\\xe9\\x9d\\xa2\\xef\\xbc\\x8c\\xe4\\xb8\\x8d\\xe4\\xbb\\x85\\xe4\\xbb\\x85\\xe6\\x98\\xaf\\xe6\\x9c\\x89\\xe9\\x92\\xb1\\xe5\\xb0\\xb1\\xe5\\x8f\\xaf\\xe4\\xbb\\xa5']\n"
     ]
    }
   ],
   "source": [
    "s1 = \"【夜读：深入到骨子里的体面，不仅仅是有钱就可以】有人会算，一生要赚够多少钱，才能体面地生活。\" \\\n",
    "     \"然而，体面的人生，不仅要及物，更要及心。体面首先是一种精神，是一个个细节。\" \\\n",
    "     \"你所有读过的书、走过的路、见过的人、花掉的钱、待人接物的姿态，都隐藏着你的气质和体面。 【夜读】\"\n",
    "s2 = re.findall(r\"【(.{10,100})】\", s1.decode('utf-8').encode('utf-8'))\n",
    "for i in s2:\n",
    "    print i.decode(\"utf-8\").encode('utf-8')\n",
    "\n",
    "print \"=====\"\n",
    "print s2"
   ]
  },
  {
   "cell_type": "code",
   "execution_count": null,
   "metadata": {},
   "outputs": [],
   "source": [
    ""
   ]
  }
 ],
 "metadata": {
  "kernelspec": {
   "display_name": "Python 2",
   "language": "python",
   "name": "python2"
  },
  "language_info": {
   "codemirror_mode": {
    "name": "ipython",
    "version": 2.0
   },
   "file_extension": ".py",
   "mimetype": "text/x-python",
   "name": "python",
   "nbconvert_exporter": "python",
   "pygments_lexer": "ipython2",
   "version": "2.7.6"
  }
 },
 "nbformat": 4,
 "nbformat_minor": 0
}