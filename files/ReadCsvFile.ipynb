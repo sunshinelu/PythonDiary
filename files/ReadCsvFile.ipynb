{
 "cells": [
  {
   "cell_type": "markdown",
   "metadata": {
    "collapsed": true
   },
   "source": [
    "# 使用Pandas读取csv文件"
   ]
  },
  {
   "cell_type": "code",
   "execution_count": 1,
   "metadata": {},
   "outputs": [],
   "source": [
    "import pandas as pd\n",
    "import numpy as np"
   ]
  },
  {
   "cell_type": "markdown",
   "metadata": {},
   "source": [
    "使用read_csv读取csv文件"
   ]
  },
  {
   "cell_type": "code",
   "execution_count": 5,
   "metadata": {},
   "outputs": [
    {
     "name": "stdout",
     "output_type": "stream",
     "text": [
      "                     0         1    2\n0                  one     three  two\n1  0.09441058613758413  zhangsan  1.0\n2  0.12629645363602304      lisi  2.0\n3   0.5670839743511403    999.99  3.0\n4   0.2543712853495239         1  4.0\n"
     ]
    }
   ],
   "source": [
    "df=pd.read_csv('/Users/sunlu/Workspaces/PyCharm/PythonDiary/database/mysql/test.csv',\n",
    "               header=None,sep=',')\n",
    "print df"
   ]
  },
  {
   "cell_type": "code",
   "execution_count": 6,
   "metadata": {},
   "outputs": [
    {
     "name": "stdout",
     "output_type": "stream",
     "text": [
      "        one     three  two\n0  0.094411  zhangsan  1.0\n1  0.126296      lisi  2.0\n2  0.567084    999.99  3.0\n3  0.254371         1  4.0\n"
     ]
    }
   ],
   "source": [
    "df=pd.read_csv('/Users/sunlu/Workspaces/PyCharm/PythonDiary/database/mysql/test.csv',\n",
    "               sep=',')\n",
    "print df"
   ]
  },
  {
   "cell_type": "code",
   "execution_count": 17,
   "metadata": {},
   "outputs": [
    {
     "name": "stdout",
     "output_type": "stream",
     "text": [
      "只读取几行：\n        one     three  two\n0  0.094411  zhangsan  1.0\n1  0.126296      lisi  2.0\n"
     ]
    }
   ],
   "source": [
    "result=pd.read_csv('/Users/sunlu/Workspaces/PyCharm/PythonDiary/database/mysql/test.csv', nrows=2)\n",
    "print('只读取几行：')\n",
    "print(result)"
   ]
  },
  {
   "cell_type": "markdown",
   "metadata": {},
   "source": [
    "  查看Pandas中read_csv的用法"
   ]
  },
  {
   "cell_type": "code",
   "execution_count": 9,
   "metadata": {
    "collapsed": true
   },
   "outputs": [
    {
     "name": "stdout",
     "output_type": "stream",
     "text": [
      "Help on function read_csv in module pandas.io.parsers:\n\nread_csv(filepath_or_buffer, sep=',', delimiter=None, header='infer', names=None, index_col=None, usecols=None, squeeze=False, prefix=None, mangle_dupe_cols=True, dtype=None, engine=None, converters=None, true_values=None, false_values=None, skipinitialspace=False, skiprows=None, nrows=None, na_values=None, keep_default_na=True, na_filter=True, verbose=False, skip_blank_lines=True, parse_dates=False, infer_datetime_format=False, keep_date_col=False, date_parser=None, dayfirst=False, iterator=False, chunksize=None, compression='infer', thousands=None, decimal='.', lineterminator=None, quotechar='\"', quoting=0, escapechar=None, comment=None, encoding=None, dialect=None, tupleize_cols=False, error_bad_lines=True, warn_bad_lines=True, skipfooter=0, skip_footer=0, doublequote=True, delim_whitespace=False, as_recarray=False, compact_ints=False, use_unsigned=False, low_memory=True, buffer_lines=None, memory_map=False, float_precision=None)\n    Read CSV (comma-separated) file into DataFrame\n    \n    Also supports optionally iterating or breaking of the file\n    into chunks.\n    \n    Additional help can be found in the `online docs for IO Tools\n    <http://pandas.pydata.org/pandas-docs/stable/io.html>`_.\n    \n    Parameters\n    ----------\n    filepath_or_buffer : str, pathlib.Path, py._path.local.LocalPath or any object with a read() method (such as a file handle or StringIO)\n        The string could be a URL. Valid URL schemes include http, ftp, s3, and\n        file. For file URLs, a host is expected. For instance, a local file could\n        be file ://localhost/path/to/table.csv\n    sep : str, default ','\n        Delimiter to use. If sep is None, the C engine cannot automatically detect\n        the separator, but the Python parsing engine can, meaning the latter will\n        be used automatically. In addition, separators longer than 1 character and\n        different from ``'\\s+'`` will be interpreted as regular expressions and\n        will also force the use of the Python parsing engine. Note that regex\n        delimiters are prone to ignoring quoted data. Regex example: ``'\\r\\t'``\n    delimiter : str, default ``None``\n        Alternative argument name for sep.\n    delim_whitespace : boolean, default False\n        Specifies whether or not whitespace (e.g. ``' '`` or ``'    '``) will be\n        used as the sep. Equivalent to setting ``sep='\\s+'``. If this option\n        is set to True, nothing should be passed in for the ``delimiter``\n        parameter.\n    \n        .. versionadded:: 0.18.1 support for the Python parser.\n    \n    header : int or list of ints, default 'infer'\n        Row number(s) to use as the column names, and the start of the data.\n        Default behavior is as if set to 0 if no ``names`` passed, otherwise\n        ``None``. Explicitly pass ``header=0`` to be able to replace existing\n        names. The header can be a list of integers that specify row locations for\n        a multi-index on the columns e.g. [0,1,3]. Intervening rows that are not\n        specified will be skipped (e.g. 2 in this example is skipped). Note that\n        this parameter ignores commented lines and empty lines if\n        ``skip_blank_lines=True``, so header=0 denotes the first line of data\n        rather than the first line of the file.\n    names : array-like, default None\n        List of column names to use. If file contains no header row, then you\n        should explicitly pass header=None. Duplicates in this list are not\n        allowed unless mangle_dupe_cols=True, which is the default.\n    index_col : int or sequence or False, default None\n        Column to use as the row labels of the DataFrame. If a sequence is given, a\n        MultiIndex is used. If you have a malformed file with delimiters at the end\n        of each line, you might consider index_col=False to force pandas to _not_\n        use the first column as the index (row names)\n    usecols : array-like or callable, default None\n        Return a subset of the columns. If array-like, all elements must either\n        be positional (i.e. integer indices into the document columns) or strings\n        that correspond to column names provided either by the user in `names` or\n        inferred from the document header row(s). For example, a valid array-like\n        `usecols` parameter would be [0, 1, 2] or ['foo', 'bar', 'baz'].\n    \n        If callable, the callable function will be evaluated against the column\n        names, returning names where the callable function evaluates to True. An\n        example of a valid callable argument would be ``lambda x: x.upper() in\n        ['AAA', 'BBB', 'DDD']``. Using this parameter results in much faster\n        parsing time and lower memory usage.\n    as_recarray : boolean, default False\n        DEPRECATED: this argument will be removed in a future version. Please call\n        `pd.read_csv(...).to_records()` instead.\n    \n        Return a NumPy recarray instead of a DataFrame after parsing the data.\n        If set to True, this option takes precedence over the `squeeze` parameter.\n        In addition, as row indices are not available in such a format, the\n        `index_col` parameter will be ignored.\n    squeeze : boolean, default False\n        If the parsed data only contains one column then return a Series\n    prefix : str, default None\n        Prefix to add to column numbers when no header, e.g. 'X' for X0, X1, ...\n    mangle_dupe_cols : boolean, default True\n        Duplicate columns will be specified as 'X.0'...'X.N', rather than\n        'X'...'X'. Passing in False will cause data to be overwritten if there\n        are duplicate names in the columns.\n    dtype : Type name or dict of column -> type, default None\n        Data type for data or columns. E.g. {'a': np.float64, 'b': np.int32}\n        Use `str` or `object` to preserve and not interpret dtype.\n        If converters are specified, they will be applied INSTEAD\n        of dtype conversion.\n    engine : {'c', 'python'}, optional\n        Parser engine to use. The C engine is faster while the python engine is\n        currently more feature-complete.\n    converters : dict, default None\n        Dict of functions for converting values in certain columns. Keys can either\n        be integers or column labels\n    true_values : list, default None\n        Values to consider as True\n    false_values : list, default None\n        Values to consider as False\n    skipinitialspace : boolean, default False\n        Skip spaces after delimiter.\n    skiprows : list-like or integer or callable, default None\n        Line numbers to skip (0-indexed) or number of lines to skip (int)\n        at the start of the file.\n    \n        If callable, the callable function will be evaluated against the row\n        indices, returning True if the row should be skipped and False otherwise.\n        An example of a valid callable argument would be ``lambda x: x in [0, 2]``.\n    skipfooter : int, default 0\n        Number of lines at bottom of file to skip (Unsupported with engine='c')\n    skip_footer : int, default 0\n        DEPRECATED: use the `skipfooter` parameter instead, as they are identical\n    nrows : int, default None\n        Number of rows of file to read. Useful for reading pieces of large files\n    na_values : scalar, str, list-like, or dict, default None\n        Additional strings to recognize as NA/NaN. If dict passed, specific\n        per-column NA values.  By default the following values are interpreted as\n        NaN: '', '#N/A', '#N/A N/A', '#NA', '-1.#IND', '-1.#QNAN', '-NaN', '-nan',\n        '1.#IND', '1.#QNAN', 'N/A', 'NA', 'NULL', 'NaN', 'nan'`.\n    keep_default_na : bool, default True\n        If na_values are specified and keep_default_na is False the default NaN\n        values are overridden, otherwise they're appended to.\n    na_filter : boolean, default True\n        Detect missing value markers (empty strings and the value of na_values). In\n        data without any NAs, passing na_filter=False can improve the performance\n        of reading a large file\n    verbose : boolean, default False\n        Indicate number of NA values placed in non-numeric columns\n    skip_blank_lines : boolean, default True\n        If True, skip over blank lines rather than interpreting as NaN values\n    parse_dates : boolean or list of ints or names or list of lists or dict, default False\n    \n        * boolean. If True -> try parsing the index.\n        * list of ints or names. e.g. If [1, 2, 3] -> try parsing columns 1, 2, 3\n          each as a separate date column.\n        * list of lists. e.g.  If [[1, 3]] -> combine columns 1 and 3 and parse as\n          a single date column.\n        * dict, e.g. {'foo' : [1, 3]} -> parse columns 1, 3 as date and call result\n          'foo'\n    \n        If a column or index contains an unparseable date, the entire column or\n        index will be returned unaltered as an object data type. For non-standard\n        datetime parsing, use ``pd.to_datetime`` after ``pd.read_csv``\n    \n        Note: A fast-path exists for iso8601-formatted dates.\n    infer_datetime_format : boolean, default False\n        If True and parse_dates is enabled, pandas will attempt to infer the format\n        of the datetime strings in the columns, and if it can be inferred, switch\n        to a faster method of parsing them. In some cases this can increase the\n        parsing speed by 5-10x.\n    keep_date_col : boolean, default False\n        If True and parse_dates specifies combining multiple columns then\n        keep the original columns.\n    date_parser : function, default None\n        Function to use for converting a sequence of string columns to an array of\n        datetime instances. The default uses ``dateutil.parser.parser`` to do the\n        conversion. Pandas will try to call date_parser in three different ways,\n        advancing to the next if an exception occurs: 1) Pass one or more arrays\n        (as defined by parse_dates) as arguments; 2) concatenate (row-wise) the\n        string values from the columns defined by parse_dates into a single array\n        and pass that; and 3) call date_parser once for each row using one or more\n        strings (corresponding to the columns defined by parse_dates) as arguments.\n    dayfirst : boolean, default False\n        DD/MM format dates, international and European format\n    iterator : boolean, default False\n        Return TextFileReader object for iteration or getting chunks with\n        ``get_chunk()``.\n    chunksize : int, default None\n        Return TextFileReader object for iteration.\n        See the `IO Tools docs\n        <http://pandas.pydata.org/pandas-docs/stable/io.html#io-chunking>`_\n        for more information on ``iterator`` and ``chunksize``.\n    compression : {'infer', 'gzip', 'bz2', 'zip', 'xz', None}, default 'infer'\n        For on-the-fly decompression of on-disk data. If 'infer', then use gzip,\n        bz2, zip or xz if filepath_or_buffer is a string ending in '.gz', '.bz2',\n        '.zip', or 'xz', respectively, and no decompression otherwise. If using\n        'zip', the ZIP file must contain only one data file to be read in.\n        Set to None for no decompression.\n    \n        .. versionadded:: 0.18.1 support for 'zip' and 'xz' compression.\n    \n    thousands : str, default None\n        Thousands separator\n    decimal : str, default '.'\n        Character to recognize as decimal point (e.g. use ',' for European data).\n    float_precision : string, default None\n        Specifies which converter the C engine should use for floating-point\n        values. The options are `None` for the ordinary converter,\n        `high` for the high-precision converter, and `round_trip` for the\n        round-trip converter.\n    lineterminator : str (length 1), default None\n        Character to break file into lines. Only valid with C parser.\n    quotechar : str (length 1), optional\n        The character used to denote the start and end of a quoted item. Quoted\n        items can include the delimiter and it will be ignored.\n    quoting : int or csv.QUOTE_* instance, default 0\n        Control field quoting behavior per ``csv.QUOTE_*`` constants. Use one of\n        QUOTE_MINIMAL (0), QUOTE_ALL (1), QUOTE_NONNUMERIC (2) or QUOTE_NONE (3).\n    doublequote : boolean, default ``True``\n       When quotechar is specified and quoting is not ``QUOTE_NONE``, indicate\n       whether or not to interpret two consecutive quotechar elements INSIDE a\n       field as a single ``quotechar`` element.\n    escapechar : str (length 1), default None\n        One-character string used to escape delimiter when quoting is QUOTE_NONE.\n    comment : str, default None\n        Indicates remainder of line should not be parsed. If found at the beginning\n        of a line, the line will be ignored altogether. This parameter must be a\n        single character. Like empty lines (as long as ``skip_blank_lines=True``),\n        fully commented lines are ignored by the parameter `header` but not by\n        `skiprows`. For example, if comment='#', parsing '#empty\\na,b,c\\n1,2,3'\n        with `header=0` will result in 'a,b,c' being\n        treated as the header.\n    encoding : str, default None\n        Encoding to use for UTF when reading/writing (ex. 'utf-8'). `List of Python\n        standard encodings\n        <https://docs.python.org/3/library/codecs.html#standard-encodings>`_\n    dialect : str or csv.Dialect instance, default None\n        If provided, this parameter will override values (default or not) for the\n        following parameters: `delimiter`, `doublequote`, `escapechar`,\n        `skipinitialspace`, `quotechar`, and `quoting`. If it is necessary to\n        override values, a ParserWarning will be issued. See csv.Dialect\n        documentation for more details.\n    tupleize_cols : boolean, default False\n        Leave a list of tuples on columns as is (default is to convert to\n        a Multi Index on the columns)\n    error_bad_lines : boolean, default True\n        Lines with too many fields (e.g. a csv line with too many commas) will by\n        default cause an exception to be raised, and no DataFrame will be returned.\n        If False, then these \"bad lines\" will dropped from the DataFrame that is\n        returned.\n    warn_bad_lines : boolean, default True\n        If error_bad_lines is False, and warn_bad_lines is True, a warning for each\n        \"bad line\" will be output.\n    low_memory : boolean, default True\n        Internally process the file in chunks, resulting in lower memory use\n        while parsing, but possibly mixed type inference.  To ensure no mixed\n        types either set False, or specify the type with the `dtype` parameter.\n        Note that the entire file is read into a single DataFrame regardless,\n        use the `chunksize` or `iterator` parameter to return the data in chunks.\n        (Only valid with C parser)\n    buffer_lines : int, default None\n        DEPRECATED: this argument will be removed in a future version because its\n        value is not respected by the parser\n    compact_ints : boolean, default False\n        DEPRECATED: this argument will be removed in a future version\n    \n        If compact_ints is True, then for any column that is of integer dtype,\n        the parser will attempt to cast it as the smallest integer dtype possible,\n        either signed or unsigned depending on the specification from the\n        `use_unsigned` parameter.\n    use_unsigned : boolean, default False\n        DEPRECATED: this argument will be removed in a future version\n    \n        If integer columns are being compacted (i.e. `compact_ints=True`), specify\n        whether the column should be compacted to the smallest signed or unsigned\n        integer dtype.\n    memory_map : boolean, default False\n        If a filepath is provided for `filepath_or_buffer`, map the file object\n        directly onto memory and access the data directly from there. Using this\n        option can improve performance because there is no longer any I/O overhead.\n    \n    Returns\n    -------\n    result : DataFrame or TextParser\n\nNone\n"
     ]
    }
   ],
   "source": [
    "print(help(pd.read_csv))"
   ]
  },
  {
   "cell_type": "code",
   "execution_count": 10,
   "metadata": {
    "collapsed": true
   },
   "outputs": [
    {
     "name": "stdout",
     "output_type": "stream",
     "text": [
      "\nRead CSV (comma-separated) file into DataFrame\n\nAlso supports optionally iterating or breaking of the file\ninto chunks.\n\nAdditional help can be found in the `online docs for IO Tools\n<http://pandas.pydata.org/pandas-docs/stable/io.html>`_.\n\nParameters\n----------\nfilepath_or_buffer : str, pathlib.Path, py._path.local.LocalPath or any object with a read() method (such as a file handle or StringIO)\n    The string could be a URL. Valid URL schemes include http, ftp, s3, and\n    file. For file URLs, a host is expected. For instance, a local file could\n    be file ://localhost/path/to/table.csv\nsep : str, default ','\n    Delimiter to use. If sep is None, the C engine cannot automatically detect\n    the separator, but the Python parsing engine can, meaning the latter will\n    be used automatically. In addition, separators longer than 1 character and\n    different from ``'\\s+'`` will be interpreted as regular expressions and\n    will also force the use of the Python parsing engine. Note that regex\n    delimiters are prone to ignoring quoted data. Regex example: ``'\\r\\t'``\ndelimiter : str, default ``None``\n    Alternative argument name for sep.\ndelim_whitespace : boolean, default False\n    Specifies whether or not whitespace (e.g. ``' '`` or ``'\t'``) will be\n    used as the sep. Equivalent to setting ``sep='\\s+'``. If this option\n    is set to True, nothing should be passed in for the ``delimiter``\n    parameter.\n\n    .. versionadded:: 0.18.1 support for the Python parser.\n\nheader : int or list of ints, default 'infer'\n    Row number(s) to use as the column names, and the start of the data.\n    Default behavior is as if set to 0 if no ``names`` passed, otherwise\n    ``None``. Explicitly pass ``header=0`` to be able to replace existing\n    names. The header can be a list of integers that specify row locations for\n    a multi-index on the columns e.g. [0,1,3]. Intervening rows that are not\n    specified will be skipped (e.g. 2 in this example is skipped). Note that\n    this parameter ignores commented lines and empty lines if\n    ``skip_blank_lines=True``, so header=0 denotes the first line of data\n    rather than the first line of the file.\nnames : array-like, default None\n    List of column names to use. If file contains no header row, then you\n    should explicitly pass header=None. Duplicates in this list are not\n    allowed unless mangle_dupe_cols=True, which is the default.\nindex_col : int or sequence or False, default None\n    Column to use as the row labels of the DataFrame. If a sequence is given, a\n    MultiIndex is used. If you have a malformed file with delimiters at the end\n    of each line, you might consider index_col=False to force pandas to _not_\n    use the first column as the index (row names)\nusecols : array-like or callable, default None\n    Return a subset of the columns. If array-like, all elements must either\n    be positional (i.e. integer indices into the document columns) or strings\n    that correspond to column names provided either by the user in `names` or\n    inferred from the document header row(s). For example, a valid array-like\n    `usecols` parameter would be [0, 1, 2] or ['foo', 'bar', 'baz'].\n\n    If callable, the callable function will be evaluated against the column\n    names, returning names where the callable function evaluates to True. An\n    example of a valid callable argument would be ``lambda x: x.upper() in\n    ['AAA', 'BBB', 'DDD']``. Using this parameter results in much faster\n    parsing time and lower memory usage.\nas_recarray : boolean, default False\n    DEPRECATED: this argument will be removed in a future version. Please call\n    `pd.read_csv(...).to_records()` instead.\n\n    Return a NumPy recarray instead of a DataFrame after parsing the data.\n    If set to True, this option takes precedence over the `squeeze` parameter.\n    In addition, as row indices are not available in such a format, the\n    `index_col` parameter will be ignored.\nsqueeze : boolean, default False\n    If the parsed data only contains one column then return a Series\nprefix : str, default None\n    Prefix to add to column numbers when no header, e.g. 'X' for X0, X1, ...\nmangle_dupe_cols : boolean, default True\n    Duplicate columns will be specified as 'X.0'...'X.N', rather than\n    'X'...'X'. Passing in False will cause data to be overwritten if there\n    are duplicate names in the columns.\ndtype : Type name or dict of column -> type, default None\n    Data type for data or columns. E.g. {'a': np.float64, 'b': np.int32}\n    Use `str` or `object` to preserve and not interpret dtype.\n    If converters are specified, they will be applied INSTEAD\n    of dtype conversion.\nengine : {'c', 'python'}, optional\n    Parser engine to use. The C engine is faster while the python engine is\n    currently more feature-complete.\nconverters : dict, default None\n    Dict of functions for converting values in certain columns. Keys can either\n    be integers or column labels\ntrue_values : list, default None\n    Values to consider as True\nfalse_values : list, default None\n    Values to consider as False\nskipinitialspace : boolean, default False\n    Skip spaces after delimiter.\nskiprows : list-like or integer or callable, default None\n    Line numbers to skip (0-indexed) or number of lines to skip (int)\n    at the start of the file.\n\n    If callable, the callable function will be evaluated against the row\n    indices, returning True if the row should be skipped and False otherwise.\n    An example of a valid callable argument would be ``lambda x: x in [0, 2]``.\nskipfooter : int, default 0\n    Number of lines at bottom of file to skip (Unsupported with engine='c')\nskip_footer : int, default 0\n    DEPRECATED: use the `skipfooter` parameter instead, as they are identical\nnrows : int, default None\n    Number of rows of file to read. Useful for reading pieces of large files\nna_values : scalar, str, list-like, or dict, default None\n    Additional strings to recognize as NA/NaN. If dict passed, specific\n    per-column NA values.  By default the following values are interpreted as\n    NaN: '', '#N/A', '#N/A N/A', '#NA', '-1.#IND', '-1.#QNAN', '-NaN', '-nan',\n    '1.#IND', '1.#QNAN', 'N/A', 'NA', 'NULL', 'NaN', 'nan'`.\nkeep_default_na : bool, default True\n    If na_values are specified and keep_default_na is False the default NaN\n    values are overridden, otherwise they're appended to.\nna_filter : boolean, default True\n    Detect missing value markers (empty strings and the value of na_values). In\n    data without any NAs, passing na_filter=False can improve the performance\n    of reading a large file\nverbose : boolean, default False\n    Indicate number of NA values placed in non-numeric columns\nskip_blank_lines : boolean, default True\n    If True, skip over blank lines rather than interpreting as NaN values\nparse_dates : boolean or list of ints or names or list of lists or dict, default False\n\n    * boolean. If True -> try parsing the index.\n    * list of ints or names. e.g. If [1, 2, 3] -> try parsing columns 1, 2, 3\n      each as a separate date column.\n    * list of lists. e.g.  If [[1, 3]] -> combine columns 1 and 3 and parse as\n      a single date column.\n    * dict, e.g. {'foo' : [1, 3]} -> parse columns 1, 3 as date and call result\n      'foo'\n\n    If a column or index contains an unparseable date, the entire column or\n    index will be returned unaltered as an object data type. For non-standard\n    datetime parsing, use ``pd.to_datetime`` after ``pd.read_csv``\n\n    Note: A fast-path exists for iso8601-formatted dates.\ninfer_datetime_format : boolean, default False\n    If True and parse_dates is enabled, pandas will attempt to infer the format\n    of the datetime strings in the columns, and if it can be inferred, switch\n    to a faster method of parsing them. In some cases this can increase the\n    parsing speed by 5-10x.\nkeep_date_col : boolean, default False\n    If True and parse_dates specifies combining multiple columns then\n    keep the original columns.\ndate_parser : function, default None\n    Function to use for converting a sequence of string columns to an array of\n    datetime instances. The default uses ``dateutil.parser.parser`` to do the\n    conversion. Pandas will try to call date_parser in three different ways,\n    advancing to the next if an exception occurs: 1) Pass one or more arrays\n    (as defined by parse_dates) as arguments; 2) concatenate (row-wise) the\n    string values from the columns defined by parse_dates into a single array\n    and pass that; and 3) call date_parser once for each row using one or more\n    strings (corresponding to the columns defined by parse_dates) as arguments.\ndayfirst : boolean, default False\n    DD/MM format dates, international and European format\niterator : boolean, default False\n    Return TextFileReader object for iteration or getting chunks with\n    ``get_chunk()``.\nchunksize : int, default None\n    Return TextFileReader object for iteration.\n    See the `IO Tools docs\n    <http://pandas.pydata.org/pandas-docs/stable/io.html#io-chunking>`_\n    for more information on ``iterator`` and ``chunksize``.\ncompression : {'infer', 'gzip', 'bz2', 'zip', 'xz', None}, default 'infer'\n    For on-the-fly decompression of on-disk data. If 'infer', then use gzip,\n    bz2, zip or xz if filepath_or_buffer is a string ending in '.gz', '.bz2',\n    '.zip', or 'xz', respectively, and no decompression otherwise. If using\n    'zip', the ZIP file must contain only one data file to be read in.\n    Set to None for no decompression.\n\n    .. versionadded:: 0.18.1 support for 'zip' and 'xz' compression.\n\nthousands : str, default None\n    Thousands separator\ndecimal : str, default '.'\n    Character to recognize as decimal point (e.g. use ',' for European data).\nfloat_precision : string, default None\n    Specifies which converter the C engine should use for floating-point\n    values. The options are `None` for the ordinary converter,\n    `high` for the high-precision converter, and `round_trip` for the\n    round-trip converter.\nlineterminator : str (length 1), default None\n    Character to break file into lines. Only valid with C parser.\nquotechar : str (length 1), optional\n    The character used to denote the start and end of a quoted item. Quoted\n    items can include the delimiter and it will be ignored.\nquoting : int or csv.QUOTE_* instance, default 0\n    Control field quoting behavior per ``csv.QUOTE_*`` constants. Use one of\n    QUOTE_MINIMAL (0), QUOTE_ALL (1), QUOTE_NONNUMERIC (2) or QUOTE_NONE (3).\ndoublequote : boolean, default ``True``\n   When quotechar is specified and quoting is not ``QUOTE_NONE``, indicate\n   whether or not to interpret two consecutive quotechar elements INSIDE a\n   field as a single ``quotechar`` element.\nescapechar : str (length 1), default None\n    One-character string used to escape delimiter when quoting is QUOTE_NONE.\ncomment : str, default None\n    Indicates remainder of line should not be parsed. If found at the beginning\n    of a line, the line will be ignored altogether. This parameter must be a\n    single character. Like empty lines (as long as ``skip_blank_lines=True``),\n    fully commented lines are ignored by the parameter `header` but not by\n    `skiprows`. For example, if comment='#', parsing '#empty\\na,b,c\\n1,2,3'\n    with `header=0` will result in 'a,b,c' being\n    treated as the header.\nencoding : str, default None\n    Encoding to use for UTF when reading/writing (ex. 'utf-8'). `List of Python\n    standard encodings\n    <https://docs.python.org/3/library/codecs.html#standard-encodings>`_\ndialect : str or csv.Dialect instance, default None\n    If provided, this parameter will override values (default or not) for the\n    following parameters: `delimiter`, `doublequote`, `escapechar`,\n    `skipinitialspace`, `quotechar`, and `quoting`. If it is necessary to\n    override values, a ParserWarning will be issued. See csv.Dialect\n    documentation for more details.\ntupleize_cols : boolean, default False\n    Leave a list of tuples on columns as is (default is to convert to\n    a Multi Index on the columns)\nerror_bad_lines : boolean, default True\n    Lines with too many fields (e.g. a csv line with too many commas) will by\n    default cause an exception to be raised, and no DataFrame will be returned.\n    If False, then these \"bad lines\" will dropped from the DataFrame that is\n    returned.\nwarn_bad_lines : boolean, default True\n    If error_bad_lines is False, and warn_bad_lines is True, a warning for each\n    \"bad line\" will be output.\nlow_memory : boolean, default True\n    Internally process the file in chunks, resulting in lower memory use\n    while parsing, but possibly mixed type inference.  To ensure no mixed\n    types either set False, or specify the type with the `dtype` parameter.\n    Note that the entire file is read into a single DataFrame regardless,\n    use the `chunksize` or `iterator` parameter to return the data in chunks.\n    (Only valid with C parser)\nbuffer_lines : int, default None\n    DEPRECATED: this argument will be removed in a future version because its\n    value is not respected by the parser\ncompact_ints : boolean, default False\n    DEPRECATED: this argument will be removed in a future version\n\n    If compact_ints is True, then for any column that is of integer dtype,\n    the parser will attempt to cast it as the smallest integer dtype possible,\n    either signed or unsigned depending on the specification from the\n    `use_unsigned` parameter.\nuse_unsigned : boolean, default False\n    DEPRECATED: this argument will be removed in a future version\n\n    If integer columns are being compacted (i.e. `compact_ints=True`), specify\n    whether the column should be compacted to the smallest signed or unsigned\n    integer dtype.\nmemory_map : boolean, default False\n    If a filepath is provided for `filepath_or_buffer`, map the file object\n    directly onto memory and access the data directly from there. Using this\n    option can improve performance because there is no longer any I/O overhead.\n\nReturns\n-------\nresult : DataFrame or TextParser\n\n\n"
     ]
    }
   ],
   "source": [
    "print pd.read_csv.__doc__"
   ]
  },
  {
   "cell_type": "markdown",
   "metadata": {},
   "source": [
    "使用read_table读取csv文件"
   ]
  },
  {
   "cell_type": "code",
   "execution_count": 16,
   "metadata": {},
   "outputs": [
    {
     "name": "stdout",
     "output_type": "stream",
     "text": [
      "用read_table读取csv文件：\n"
     ]
    },
    {
     "data": {
      "text/html": [
       "<div>\n",
       "<style>\n",
       "    .dataframe thead tr:only-child th {\n",
       "        text-align: right;\n",
       "    }\n",
       "\n",
       "    .dataframe thead th {\n",
       "        text-align: left;\n",
       "    }\n",
       "\n",
       "    .dataframe tbody tr th {\n",
       "        vertical-align: top;\n",
       "    }\n",
       "</style>\n",
       "<table border=\"1\" class=\"dataframe\">\n",
       "  <thead>\n",
       "    <tr style=\"text-align: right;\">\n",
       "      <th></th>\n",
       "      <th>one</th>\n",
       "      <th>three</th>\n",
       "      <th>two</th>\n",
       "    </tr>\n",
       "  </thead>\n",
       "  <tbody>\n",
       "    <tr>\n",
       "      <th>0</th>\n",
       "      <td>0.094411</td>\n",
       "      <td>zhangsan</td>\n",
       "      <td>1.0</td>\n",
       "    </tr>\n",
       "    <tr>\n",
       "      <th>1</th>\n",
       "      <td>0.126296</td>\n",
       "      <td>lisi</td>\n",
       "      <td>2.0</td>\n",
       "    </tr>\n",
       "    <tr>\n",
       "      <th>2</th>\n",
       "      <td>0.567084</td>\n",
       "      <td>999.99</td>\n",
       "      <td>3.0</td>\n",
       "    </tr>\n",
       "    <tr>\n",
       "      <th>3</th>\n",
       "      <td>0.254371</td>\n",
       "      <td>1</td>\n",
       "      <td>4.0</td>\n",
       "    </tr>\n",
       "  </tbody>\n",
       "</table>\n",
       "</div>"
      ],
      "text/plain": [
       "<div>\n",
       "<style>\n",
       "    .dataframe thead tr:only-child th {\n",
       "        text-align: right;\n",
       "    }\n",
       "\n",
       "    .dataframe thead th {\n",
       "        text-align: left;\n",
       "    }\n",
       "\n",
       "    .dataframe tbody tr th {\n",
       "        vertical-align: top;\n",
       "    }\n",
       "</style>\n",
       "<table border=\"1\" class=\"dataframe\">\n",
       "  <thead>\n",
       "    <tr style=\"text-align: right;\">\n",
       "      <th></th>\n",
       "      <th>one</th>\n",
       "      <th>three</th>\n",
       "      <th>two</th>\n",
       "    </tr>\n",
       "  </thead>\n",
       "  <tbody>\n",
       "    <tr>\n",
       "      <th>0</th>\n",
       "      <td>0.094411</td>\n",
       "      <td>zhangsan</td>\n",
       "      <td>1.0</td>\n",
       "    </tr>\n",
       "    <tr>\n",
       "      <th>1</th>\n",
       "      <td>0.126296</td>\n",
       "      <td>lisi</td>\n",
       "      <td>2.0</td>\n",
       "    </tr>\n",
       "    <tr>\n",
       "      <th>2</th>\n",
       "      <td>0.567084</td>\n",
       "      <td>999.99</td>\n",
       "      <td>3.0</td>\n",
       "    </tr>\n",
       "    <tr>\n",
       "      <th>3</th>\n",
       "      <td>0.254371</td>\n",
       "      <td>1</td>\n",
       "      <td>4.0</td>\n",
       "    </tr>\n",
       "  </tbody>\n",
       "</table>\n",
       "</div>"
      ]
     },
     "execution_count": 16,
     "metadata": {},
     "output_type": "execute_result"
    }
   ],
   "source": [
    "df=pd.read_table('/Users/sunlu/Workspaces/PyCharm/PythonDiary/database/mysql/test.csv', sep=',')\n",
    "print('用read_table读取csv文件：')\n",
    "df"
   ]
  },
  {
   "cell_type": "code",
   "execution_count": null,
   "metadata": {},
   "outputs": [],
   "source": [
    ""
   ]
  }
 ],
 "metadata": {
  "kernelspec": {
   "display_name": "Python 2",
   "language": "python",
   "name": "python2"
  },
  "language_info": {
   "codemirror_mode": {
    "name": "ipython",
    "version": 2.0
   },
   "file_extension": ".py",
   "mimetype": "text/x-python",
   "name": "python",
   "nbconvert_exporter": "python",
   "pygments_lexer": "ipython2",
   "version": "2.7.6"
  }
 },
 "nbformat": 4,
 "nbformat_minor": 0
}