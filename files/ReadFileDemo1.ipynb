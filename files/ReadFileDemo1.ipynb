{
 "cells": [
  {
   "cell_type": "markdown",
   "metadata": {
    "collapsed": true
   },
   "source": [
    "# 读取文本文件Demo1"
   ]
  },
  {
   "cell_type": "code",
   "execution_count": null,
   "metadata": {},
   "outputs": [],
   "source": [
    ""
   ]
  },
  {
   "cell_type": "code",
   "execution_count": 1,
   "metadata": {},
   "outputs": [],
   "source": [
    "filePath = \"/Users/sunlu/Workspaces/PyCharm/PythonDiary/data/subFileTest\""
   ]
  },
  {
   "cell_type": "code",
   "execution_count": 2,
   "metadata": {},
   "outputs": [
    {
     "data": {
      "text/plain": [
       "'1\\n2\\n3\\n4\\n5\\n6\\n7\\n8\\n9\\n10'"
      ]
     },
     "execution_count": 2,
     "metadata": {},
     "output_type": "execute_result"
    }
   ],
   "source": [
    "f = open(filePath)\n",
    "f.read()"
   ]
  },
  {
   "cell_type": "code",
   "execution_count": 6,
   "metadata": {},
   "outputs": [
    {
     "data": {
      "text/plain": [
       "''"
      ]
     },
     "execution_count": 6,
     "metadata": {},
     "output_type": "execute_result"
    }
   ],
   "source": [
    "f.readline()"
   ]
  },
  {
   "cell_type": "code",
   "execution_count": 7,
   "metadata": {},
   "outputs": [
    {
     "data": {
      "text/plain": [
       "[]"
      ]
     },
     "execution_count": 7,
     "metadata": {},
     "output_type": "execute_result"
    }
   ],
   "source": [
    "f.readlines()"
   ]
  },
  {
   "cell_type": "code",
   "execution_count": 9,
   "metadata": {},
   "outputs": [
    {
     "name": "stdout",
     "output_type": "stream",
     "text": [
      "1\n\n\n"
     ]
    }
   ],
   "source": [
    "f = open(filePath)\n",
    "for i in f.readline():\n",
    "    print i"
   ]
  },
  {
   "cell_type": "code",
   "execution_count": 8,
   "metadata": {},
   "outputs": [
    {
     "name": "stdout",
     "output_type": "stream",
     "text": [
      "1\n\n2\n\n3\n\n4\n\n5\n\n6\n\n7\n\n8\n\n9\n\n10\n"
     ]
    }
   ],
   "source": [
    "f = open(filePath)\n",
    "for i in f.readlines():\n",
    "    print i"
   ]
  },
  {
   "cell_type": "code",
   "execution_count": 16,
   "metadata": {},
   "outputs": [
    {
     "name": "stdout",
     "output_type": "stream",
     "text": [
      "7\n8\n5\n9\n4\n3\n \n4\n0\n0\n\n\n"
     ]
    }
   ],
   "source": [
    "filePath = \"/Users/sunlu/Workspaces/PyCharm/Github/wiki_zh_word2vec/wiki.zh.text.vector\"\n",
    "f = open(filePath)\n",
    "for i in f.readline():\n",
    "    print i"
   ]
  },
  {
   "cell_type": "code",
   "execution_count": 21,
   "metadata": {
    "collapsed": true
   },
   "outputs": [
    {
     "name": "stdout",
     "output_type": "stream",
     "text": [
      " 现/tg 正/d 连载/v 中/f 的/ude1 [少年/n 漫画/n]/nz 《/w BLEACH/x 死神/n 》/w 宣布/v 将/d 推出/v 完全/ad 新作/n [手机/n 游戏/n]/nz 《/w BLEACH/x 死神/n 卍解/nz 战斗/vn 》/w （/w 暂/d 译/v ，/w 日文/nz 原名/n ：/w BLEACH/x 卍解/nz バ/x ト/x ル/x ）/w ，/w 本/rz 作/v 预计/vn 于/p 今年/t 春季/t 问世/vi 。/w\n\n《/w BLEACH/x 死神/n 卍解/nz 战斗/vn 》/w 是/vshi GREE/x 与/cc 游戏/n 开发商/nnd ORATTA/x 共同/d 打造/v 的/ude1 作品/n ，/w 主打/v 可爱/a 的/ude1 SD/x 化/v 角色/n 、/w 即时制/nz 公会/nis 战斗/vn 、/w 重现/v 原作/n 剧情/n 等等/udeng 特色/n 。/w\n\n2\n"
     ]
    }
   ],
   "source": [
    "path = \"/Users/sunlu/Workspaces/PyCharm/Github/LSTM-CNN-CWS/Corpora/people2014All.txt\"\n",
    "f = open(path)\n",
    "j = 0\n",
    "for i in f.readlines():\n",
    "    if \"卍\" in i:\n",
    "        print i\n",
    "        j += 1\n",
    "print j"
   ]
  },
  {
   "cell_type": "code",
   "execution_count": null,
   "metadata": {},
   "outputs": [],
   "source": [
    ""
   ]
  }
 ],
 "metadata": {
  "kernelspec": {
   "display_name": "Python 2",
   "language": "python",
   "name": "python2"
  },
  "language_info": {
   "codemirror_mode": {
    "name": "ipython",
    "version": 2.0
   },
   "file_extension": ".py",
   "mimetype": "text/x-python",
   "name": "python",
   "nbconvert_exporter": "python",
   "pygments_lexer": "ipython2",
   "version": "2.7.6"
  }
 },
 "nbformat": 4,
 "nbformat_minor": 0
}