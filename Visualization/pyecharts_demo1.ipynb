{
 "cells": [
  {
   "cell_type": "markdown",
   "metadata": {
    "collapsed": true
   },
   "source": [
    "# 使用pyecharts进行数据可视化\n",
    "\n",
    "> 参考链接\n",
    ">\n",
    "> <https://05x-docs.pyecharts.org/#/>\n",
    ">\n",
    "> <https://05x-docs.pyecharts.org/#/zh-cn/prepare>\n",
    ">\n",
    ">\n",
    "\n",
    "使用版本0.5.11\n",
    "\n",
    "\tsource activate python36\n",
    "\tpip install pyecharts==0.5.11\n",
    "\t"
   ]
  },
  {
   "cell_type": "code",
   "execution_count": 1,
   "metadata": {
    "collapsed": false
   },
   "outputs": [
    {
     "name": "stderr",
     "output_type": "stream",
     "text": [
      "ERROR:lml.utils:failed to import pyecharts_snapshot\nTraceback (most recent call last):\n  File \"/Users/sunlu/anaconda2/envs/python36/lib/python3.6/site-packages/lml/utils.py\", line 43, in do_import\n    plugin_module = __import__(plugin_module_name)\nModuleNotFoundError: No module named 'pyecharts_snapshot'\n"
     ]
    }
   ],
   "source": [
    "from pyecharts import Bar\n",
    "\n",
    "bar = Bar(\"我的第一个图表\", \"这里是副标题\")\n",
    "bar.add(\"服装\", [\"衬衫\", \"羊毛衫\", \"雪纺衫\", \"裤子\", \"高跟鞋\", \"袜子\"], [5, 20, 36, 10, 75, 90])\n",
    "# bar.print_echarts_options() # 该行只为了打印配置项，方便调试时使用\n",
    "bar.render()    # 生成本地 HTML 文件"
   ]
  },
  {
   "cell_type": "code",
   "execution_count": null,
   "metadata": {},
   "outputs": [],
   "source": [
    ""
   ]
  }
 ],
 "metadata": {
  "kernelspec": {
   "display_name": "Python 2",
   "language": "python",
   "name": "python2"
  },
  "language_info": {
   "codemirror_mode": {
    "name": "ipython",
    "version": 2.0
   },
   "file_extension": ".py",
   "mimetype": "text/x-python",
   "name": "python",
   "nbconvert_exporter": "python",
   "pygments_lexer": "ipython2",
   "version": "2.7.6"
  }
 },
 "nbformat": 4,
 "nbformat_minor": 0
}