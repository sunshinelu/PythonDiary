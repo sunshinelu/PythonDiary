{
 "cells": [
  {
   "cell_type": "markdown",
   "metadata": {
    "collapsed": true
   },
   "source": [
    "# 大文件切分"
   ]
  },
  {
   "cell_type": "code",
   "execution_count": 1,
   "metadata": {},
   "outputs": [],
   "source": [
    "import os  \n",
    "import time"
   ]
  },
  {
   "cell_type": "code",
   "execution_count": 1,
   "metadata": {},
   "outputs": [],
   "source": [
    "def mkSubFile(lines,head,srcName,sub):  \n",
    "    [des_filename, extname] = os.path.splitext(srcName)  \n",
    "    filename  = des_filename + '_' + str(sub) + extname  \n",
    "    print( 'make file: %s' %filename)  \n",
    "    fout = open(filename,'w')  \n",
    "    try:  \n",
    "        fout.writelines([head])  \n",
    "        fout.writelines(lines)  \n",
    "        return sub + 1  \n",
    "    finally:  \n",
    "        fout.close()\n",
    "\n",
    "def splitByLineCount(filename,count):  \n",
    "    fin = open(filename,'r')  \n",
    "    try:  \n",
    "        head = fin.readline()  \n",
    "        buf = []  \n",
    "        sub = 1  \n",
    "        for line in fin:  \n",
    "            buf.append(line)  \n",
    "            if len(buf) == count:  \n",
    "                sub = mkSubFile(buf,head,filename,sub)  \n",
    "                buf = []  \n",
    "        if len(buf) != 0:  \n",
    "            sub = mkSubFile(buf,head,filename,sub)     \n",
    "    finally:  \n",
    "        fin.close()"
   ]
  },
  {
   "cell_type": "code",
   "execution_count": 3,
   "metadata": {},
   "outputs": [
    {
     "name": "stdout",
     "output_type": "stream",
     "text": [
      "make file: /Users/sunlu/Workspaces/PyCharm/PythonDiary/data/subFileTest_1\nmake file: /Users/sunlu/Workspaces/PyCharm/PythonDiary/data/subFileTest_2\ntime is 0 seconds \n"
     ]
    }
   ],
   "source": [
    "begin = time.time() \n",
    "# filePath = \"/Users/sunlu/Workspaces/PyCharm/Github/wiki_zh_word2vec/wiki.zh.txt\"\n",
    "filePath = \"/Users/sunlu/Workspaces/PyCharm/PythonDiary/data/subFileTest\"\n",
    "splitByLineCount(filePath,5)  #600000\n",
    "end = time.time()  \n",
    "print('time is %d seconds ' % (end - begin))"
   ]
  },
  {
   "cell_type": "code",
   "execution_count": null,
   "metadata": {},
   "outputs": [],
   "source": [
    ""
   ]
  }
 ],
 "metadata": {
  "kernelspec": {
   "display_name": "Python 2",
   "language": "python",
   "name": "python2"
  },
  "language_info": {
   "codemirror_mode": {
    "name": "ipython",
    "version": 2.0
   },
   "file_extension": ".py",
   "mimetype": "text/x-python",
   "name": "python",
   "nbconvert_exporter": "python",
   "pygments_lexer": "ipython2",
   "version": "2.7.6"
  }
 },
 "nbformat": 4,
 "nbformat_minor": 0
}