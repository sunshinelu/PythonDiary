{
 "cells": [
  {
   "cell_type": "markdown",
   "metadata": {
    "collapsed": true
   },
   "source": [
    "# 微博数据清洗\n",
    "\n",
    "> 参考链接\n",
    "> 微博数据清洗(Python版)\n",
    "> <https://blog.csdn.net/devtao/article/details/17267709>\n",
    "> "
   ]
  },
  {
   "cell_type": "code",
   "execution_count": 1,
   "metadata": {},
   "outputs": [],
   "source": [
    "import re"
   ]
  },
  {
   "cell_type": "code",
   "execution_count": 2,
   "metadata": {},
   "outputs": [],
   "source": [
    "def dealHtmlTags(html):  \n",
    "    ''''' \n",
    "    去掉html标签 \n",
    "    '''  \n",
    "    from HTMLParser import HTMLParser  \n",
    "    html=html.strip()  \n",
    "    html=html.strip(\"\\n\")  \n",
    "    result=[]  \n",
    "    parse=HTMLParser()  \n",
    "    parse.handle_data=result.append  \n",
    "    parse.feed(html)  \n",
    "    parse.close()  \n",
    "    return \"\".join(result)  \n",
    "  \n",
    "  \n",
    "def dealUrl(text):  \n",
    "    ''''' \n",
    "    去掉微博信息中的url地址 \n",
    "    '''  \n",
    "    return re.sub('''''http[s]?://(?:[a-zA-Z]|[0-9]|[$-_@.&+]|[!*,]|(?:%[0-9a-fA-F][0-9a-fA-F]))+''', '',text)"
   ]
  },
  {
   "cell_type": "code",
   "execution_count": 8,
   "metadata": {},
   "outputs": [
    {
     "name": "stdout",
     "output_type": "stream",
     "text": [
      "接下来一年，我希望在惠普电脑看到更人性化，各科技化的东西，更能提升视觉享受的东西。 地址：http://t.cn/8kUAX2z\n=======\n接下来一年，我希望在惠普电脑看到更人性化，各科技化的东西，更能提升视觉享受的东西。 地址：http://t.cn/8kUAX2z\n--------\n接下来一年，我希望在惠普电脑看到更人性化，各科技化的东西，更能提升视觉享受的东西。 地址：\n"
     ]
    }
   ],
   "source": [
    "html = \"\"\"接下来一年，我希望在<SPAN style=\"COLOR: red\">惠普</SPAN>电脑看到更人性化，各科技化的东西，更能提升视觉享受的东西。 地址：<A title=http://t.cn/8kUAX2z href=\"http://t.cn/8kUAX2z\" target=_blank suda-data=\"key=tblog_search_v4.1&value=weibo_feed_url\" :3651215114310513>http://t.cn/8kUAX2z<SPAN class=feedico_active></SPAN></A> \n",
    "    \"\"\"  \n",
    "html = dealHtmlTags(html)  \n",
    "print html\n",
    "print \"=======\"\n",
    "print dealUrl(html)\n",
    "\n",
    "print \"--------\"\n",
    "rmUrl = re.sub(r\"((https|http|ftp|rtsp|mms)?:\\/\\/)[^\\s]+\", \"\", html)\n",
    "print rmUrl"
   ]
  },
  {
   "cell_type": "code",
   "execution_count": 6,
   "metadata": {},
   "outputs": [
    {
     "name": "stdout",
     "output_type": "stream",
     "text": [
      "#福州身边事#【永泰梧桐镇果农用传统手工 制出原汁原味柿饼】@海峡都市报：秋季的福州乡村除了层林尽染，绵延无尽的斑斓美景，还有乡亲们收秋晒秋的忙碌身影。在永泰梧桐镇，山里柿子红彤彤挂满枝头，村民们趁着柿子还没软就采摘下来，开始一年一度传统手工劳作：去皮、晾晒、出霜，做成美味的柿饼。vi ​​​...全文\n"
     ]
    }
   ],
   "source": [
    "s = \"\"\"<a class='k' href='https://m.weibo.cn/k/%E7%A6%8F%E5%B7%9E%E8%BA%AB%E8%BE%B9%E4%BA%8B?from=feed'>#福州身边事#</a>【永泰梧桐镇果农用传统手工 制出原汁原味柿饼】<a href='https://m.weibo.cn/n/海峡都市报'>@海峡都市报</a>：秋季的福州乡村除了层林尽染，绵延无尽的斑斓美景，还有乡亲们收秋晒秋的忙碌身影。在永泰梧桐镇，山里柿子红彤彤挂满枝头，村民们趁着柿子还没软就采摘下来，开始一年一度传统手工劳作：去皮、晾晒、出霜，做成美味的柿饼。vi ​​​...<a href=\"/status/4040267663381680\">全文</a>\"\"\"\n",
    "s2 = dealHtmlTags(s)\n",
    "print s2"
   ]
  },
  {
   "cell_type": "code",
   "execution_count": null,
   "metadata": {},
   "outputs": [],
   "source": [
    ""
   ]
  }
 ],
 "metadata": {
  "kernelspec": {
   "display_name": "Python 2",
   "language": "python",
   "name": "python2"
  },
  "language_info": {
   "codemirror_mode": {
    "name": "ipython",
    "version": 2.0
   },
   "file_extension": ".py",
   "mimetype": "text/x-python",
   "name": "python",
   "nbconvert_exporter": "python",
   "pygments_lexer": "ipython2",
   "version": "2.7.6"
  }
 },
 "nbformat": 4,
 "nbformat_minor": 0
}